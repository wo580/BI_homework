{
 "cells": [
  {
   "cell_type": "markdown",
   "metadata": {},
   "source": [
    "Action1\t针对MarketBasket数据集进行购物篮分析（频繁项集及关联规则挖掘）\n",
    "https://www.kaggle.com/dragonheir/basket-optimisation\t\n",
    "\"数据预处理（10points）\n",
    "完成代码（20points）\n",
    "结果正确（20points）\"\n",
    "Hints:\n",
    "data = pd.read_csv('./Market_Basket_Optimisation.csv', header = None)"
   ]
  },
  {
   "cell_type": "code",
   "execution_count": null,
   "metadata": {},
   "outputs": [],
   "source": [
    "from efficient_apriori import apriori\n",
    "import pandas as pd\n",
    "import time"
   ]
  },
  {
   "cell_type": "code",
   "execution_count": null,
   "metadata": {},
   "outputs": [],
   "source": [
    "#数据加载\n",
    "start = time.time()\n",
    "data = pd.read_csv('./Market_Basket_Optimisation.csv', header = None)\n",
    "#去掉None项\n",
    "#data = data.drop(data[data.values == 'NaN'].index)\n",
    "print(data.head())\n",
    "print(data.shape[0])\n",
    "print(data.shape[1])\n",
    "print(data)"
   ]
  },
  {
   "cell_type": "code",
   "execution_count": null,
   "metadata": {},
   "outputs": [],
   "source": [
    "transactions=[]\n",
    "for i in range(0,data.shape[0]):\n",
    "    temp=[]\n",
    "    for j in range(0,data.shape[1]):\n",
    "        if str(data.values[i,j])!='nan':\n",
    "            temp.append(str(data.values[i,j]))#去除空值\n",
    "    transactions.append(temp)\n",
    "       \n",
    "#print(transactions)"
   ]
  },
  {
   "cell_type": "code",
   "execution_count": null,
   "metadata": {},
   "outputs": [],
   "source": [
    "itemsets, rules = apriori(transactions, min_support=0.05,  min_confidence=0.2)\n",
    "print(\"频繁项集：\", itemsets)\n",
    "print(\"关联规则：\", rules)\n",
    "end = time.time()\n",
    "print(\"用时：\", end-start)"
   ]
  },
  {
   "cell_type": "code",
   "execution_count": null,
   "metadata": {},
   "outputs": [],
   "source": [
    "def encode_units(x):\n",
    "    if x <= 0:\n",
    "        return 0\n",
    "    if x >= 1:\n",
    "        return 1\n",
    "def encode_units1(x):\n",
    "    \n",
    "    return x"
   ]
  },
  {
   "cell_type": "code",
   "execution_count": null,
   "metadata": {},
   "outputs": [],
   "source": [
    "# 采用mlxtend.frequent_patterns工具包\n",
    "from  mlxtend.frequent_patterns  import apriori as apriori2\n",
    "from  mlxtend.frequent_patterns  import association_rules\n",
    "pd.options.display.max_columns=100\n",
    "import time"
   ]
  },
  {
   "cell_type": "code",
   "execution_count": null,
   "metadata": {},
   "outputs": [],
   "source": [
    "start = time.time()\n",
    "df=pd.DataFrame(transactions).stack().reset_index() \n",
    "df=df.rename({'level_0': 'LA', 0: 'LC'},axis='columns')\n",
    "print(df)\n",
    "df=df.groupby(['LA','LC'])['LA'].count().unstack().reset_index().fillna(0).set_index('LA')\n",
    "print(df)\n",
    "transaction=df.applymap(encode_units)"
   ]
  },
  {
   "cell_type": "code",
   "execution_count": null,
   "metadata": {},
   "outputs": [],
   "source": [
    "print(transaction)\n",
    "print(transaction.shape)"
   ]
  },
  {
   "cell_type": "code",
   "execution_count": null,
   "metadata": {},
   "outputs": [],
   "source": [
    "frequent_itemsets = apriori2(transaction, min_support=0.05, use_colnames=True)\n",
    "rules = association_rules(frequent_itemsets, metric=\"lift\", min_threshold=1)\n",
    "print('频繁项集：',frequent_itemsets)\n",
    "print(\"关联规则：\", rules[ (rules['lift'] >= 1) & (rules['confidence'] >= 0.05) ])\n",
    "print(rules['confidence'])\n",
    "#print('关联规则：',rules)\n",
    "end=time.time()\n",
    "print('用时：',end-start)"
   ]
  },
  {
   "cell_type": "code",
   "execution_count": null,
   "metadata": {},
   "outputs": [],
   "source": []
  }
 ],
 "metadata": {
  "kernelspec": {
   "display_name": "Python 3",
   "language": "python",
   "name": "python3"
  },
  "language_info": {
   "codemirror_mode": {
    "name": "ipython",
    "version": 3
   },
   "file_extension": ".py",
   "mimetype": "text/x-python",
   "name": "python",
   "nbconvert_exporter": "python",
   "pygments_lexer": "ipython3",
   "version": "3.7.0"
  }
 },
 "nbformat": 4,
 "nbformat_minor": 2
}
