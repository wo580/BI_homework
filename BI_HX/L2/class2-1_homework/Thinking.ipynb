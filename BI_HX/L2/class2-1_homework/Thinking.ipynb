{
 "cells": [
  {
   "cell_type": "markdown",
   "metadata": {},
   "source": [
    "Thinking1\t关联规则中的支持度、置信度和提升度代表的什么，如何计算\t\t\t\t\n",
    "能说出支持度、置信度、提升度的含义和计算方法（10points）\n",
    "\n",
    "支持度是指某个商品组合出现的次数与总次数之间的比例，支持度越高，这个组合出现的概率也大；\n",
    "置信度是个条件概率，是指当买了A商品，会有多大概率买B商品（A->B）；\n",
    "提升度是指A商品的出现，对B商品的出现概率提升的程度；（升度大于1代表有提升，等于1代表没有效果，小于1代表下降）\n",
    "计算方法：\n",
    "支持度 = 某个商品组合/所有商品订单数\n",
    "置信度（A->B）= A出现的情况下B出现的概率\n",
    "提升度 = 置信度（A->B）/支持度（B）"
   ]
  },
  {
   "cell_type": "markdown",
   "metadata": {},
   "source": []
  },
  {
   "cell_type": "markdown",
   "metadata": {},
   "source": [
    "Thinking2\t关联规则与协同过滤的区别\t\t\t\t\n",
    "能简要说出关联规则与协同过滤的区别（10points）\n",
    "\n",
    "关联规则(Association Rules，又称 Basket Analysis)是基于transaction，从整体的数据中挖掘潜在关联；\n",
    "而协同过滤(Collaborative filtering)基于用户偏好（评分），个性化推荐；\n",
    "协同过滤在计算相似商品的过程中可以使用关联规则分析，但是在有用户评分的情况下（非1/0），协同过滤算法应该比传统的关联规则更能产生精准的推荐。"
   ]
  },
  {
   "cell_type": "markdown",
   "metadata": {},
   "source": []
  },
  {
   "cell_type": "markdown",
   "metadata": {},
   "source": [
    "Thinking3\t为什么我们需要多种推荐算法\t\t\t\t\n",
    "能简要说出自己的观点（10points）\n",
    "\n",
    "因为根据不同场景，不同需求，需要的推荐算法不一样，每种推荐算法的思考维度不同，往往需要把多种推荐算法的结果综合起来，做到更加准确的推荐。"
   ]
  },
  {
   "cell_type": "markdown",
   "metadata": {},
   "source": []
  },
  {
   "cell_type": "markdown",
   "metadata": {},
   "source": [
    "Thinking4\t关联规则中的最小支持度、最小置信度该如何确定\t\t\t\n",
    "能简要说出最小支持度、最小置信度的确定方法（10points）"
   ]
  },
  {
   "cell_type": "markdown",
   "metadata": {},
   "source": [
    "最小支持度和最小置信度是实验出来的，不同的数据集，最小值支持度差别较大"
   ]
  },
  {
   "cell_type": "markdown",
   "metadata": {},
   "source": []
  },
  {
   "cell_type": "markdown",
   "metadata": {},
   "source": [
    "Thinking5\t都有哪些常见的回归分析方法，评价指标是什么\t\t\t\t\n",
    "能简要说出常见的方法及指标（10points）"
   ]
  },
  {
   "cell_type": "markdown",
   "metadata": {},
   "source": [
    "一元线性回归、多元线性回归、多项式回归\n",
    "评价指标：\n",
    "pearson系数，使用最广泛的相关性统计量，用于测量两组连续变量之间的线性关联程度\n",
    "kendall，反映分类变量相关性的指标，通常用于评分数据一致性水平研究，比如评委打分，数据排名等\n",
    "spearman：非线性的，非正太分布的数据的相关系数\n",
    "R方也叫确定系数（coefficient of determination），表示模型对现实数据拟合的程度，评估预测效果"
   ]
  }
 ],
 "metadata": {
  "kernelspec": {
   "display_name": "Python 3",
   "language": "python",
   "name": "python3"
  },
  "language_info": {
   "codemirror_mode": {
    "name": "ipython",
    "version": 3
   },
   "file_extension": ".py",
   "mimetype": "text/x-python",
   "name": "python",
   "nbconvert_exporter": "python",
   "pygments_lexer": "ipython3",
   "version": "3.7.0"
  }
 },
 "nbformat": 4,
 "nbformat_minor": 2
}
