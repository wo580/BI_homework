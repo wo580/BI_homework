{
 "cells": [
  {
   "cell_type": "markdown",
   "metadata": {},
   "source": [
    "Action2\t\"Paper Reading：Slope one predictors for online rating-based collaborative filtering. Daniel Lemire and Anna Maclachlan, 2007. http://arxiv.org/abs/cs/0702144.\n",
    "积累，总结笔记，自己的思考及idea\n",
    "\"\t\t\t\"1、完成论文阅读，整理阅读笔记（10points）\n",
    "2、有自己的idea（10points）\"\t"
   ]
  },
  {
   "cell_type": "markdown",
   "metadata": {},
   "source": [
    "SlopeOne：\n",
    "两个用户UserA和UserB以及两个物品ItemI和ItemJ\n",
    "构成稀疏评分矩阵，需要我们预测UserBUserB对于ItemItem jj的评分。采用SlopeOne方案对评分预测的计算结果如下：\n",
    "UBj=UBi -（UAi-UAj）\n",
    "\n",
    "多个用户多个物品：对于稀疏矩阵中所有ItemItem在所有用户下共同出现的评分差值计算（求物品两两之间的差值平均分）"
   ]
  },
  {
   "cell_type": "markdown",
   "metadata": {},
   "source": [
    "加权Slope One：（Weighted Slope One）\n",
    "如果有100个用户对Item1和Item2都打过分, 有1000个用户对Item3和Item2也打过分. 显然这两个rating差的权重是不一样的. 因此我们的计算方法是\n",
    "(100*(Rating 1 to 2) + 1000(Rating 3 to 2)) / (100 + 1000)"
   ]
  },
  {
   "cell_type": "markdown",
   "metadata": {},
   "source": [
    "两极Slope One：\n",
    "将用户分成喜欢这个物品和不喜欢这个物品两个用户组，分别计算用户评分差\n"
   ]
  },
  {
   "cell_type": "markdown",
   "metadata": {},
   "source": []
  }
 ],
 "metadata": {
  "kernelspec": {
   "display_name": "Python 3",
   "language": "python",
   "name": "python3"
  },
  "language_info": {
   "codemirror_mode": {
    "name": "ipython",
    "version": 3
   },
   "file_extension": ".py",
   "mimetype": "text/x-python",
   "name": "python",
   "nbconvert_exporter": "python",
   "pygments_lexer": "ipython3",
   "version": "3.8.3"
  }
 },
 "nbformat": 4,
 "nbformat_minor": 4
}
