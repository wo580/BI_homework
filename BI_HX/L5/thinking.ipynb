{
 "cells": [
  {
   "cell_type": "markdown",
   "metadata": {},
   "source": [
    "Thinking1\t\n",
    "在实际工作中，FM和MF哪个应用的更多，为什么\t\t\n",
    "1、能简要说明FM和MF的区别（5point）\n",
    "2、能简要说明FM在推荐系统，以及应用场景中的作用（5point）\n",
    "\n",
    "FM应用得更多；\n",
    "FM与MF的区别：\n",
    "FM矩阵将User和Item都进行了one-hot编码作为特征，使得特征维度非常巨大且稀疏；\n",
    "矩阵分解MF是FM的特例，即特征只有User ID 和Item ID的FM模型；\n",
    "矩阵分解MF只适用于评分预测，进行简单的特征计算，无法利用其他特征；\n",
    "FM引入了更多辅助信息（Side information）作为特征；\n",
    "FM在计算二阶特征组合系数的时候，使用了MF；\n",
    "\n",
    "FM算法的作用：\n",
    "泛化能力强，解决大规模稀疏数据下的特征组合问题，不仅是UserID, ItemID特征\n",
    "MF是FM的特例，使用了特征embedding（User，Item）。FM使用了更多Side Information作为特征，\n",
    "同时在进行二阶特征组合权重预估的时候，使用到了MF\n",
    "计算复杂度，可以在线性时间对样本做出预测，通过公式变换将计算复杂度降到O(k*n)"
   ]
  },
  {
   "cell_type": "markdown",
   "metadata": {},
   "source": [
    "Thinking2\t\n",
    "FFM与FM有哪些区别？\t\t\t\n",
    "1、能简要说明区别（10point）\n",
    "FM旨在解决稀疏数据下的特征组合问题，具有线性的计算复杂度，\n",
    "FFM引入field(场)的概念，FFM把相同性质的特征归于同一个field；\n",
    "FM每个特征有唯一的一个隐向量表示，FFM每个特征有几个不同的隐向量；FM是FFM的特例，计算复杂度为O（kn**2）,但K远小于FM的K。"
   ]
  },
  {
   "cell_type": "markdown",
   "metadata": {},
   "source": [
    "Thinking3\t\n",
    "DeepFM相比于FM解决了哪些问题，原理是怎样的\t\t\t\n",
    "1、能说明DeepFM相比于FM有哪些改进的地方（5points）\n",
    "2、能说明DeepFM的原理，FM+DNN模型（5points）\n",
    "\n",
    "FM一般只考虑2阶特征组合，DeepFM可以应用到高阶，DeepFM=FM+DNN，在低阶和高阶特征组合上更接近真实世界，更好的模拟真实世界中的影响因素，因此效果也更好。\n",
    "\n",
    "DeepFM原理：先使用FM模型提取低阶（low order）特征，FM中的隐向量作为网络权重用来压缩field向量来得到embedding向量。这些embedding向量被用作DNN的输入，提取高阶（high order）特征。"
   ]
  },
  {
   "cell_type": "markdown",
   "metadata": {},
   "source": [
    "Thinking4\t\n",
    "Surprise工具中的baseline算法原理是怎样的？\n",
    "BaselineOnly和KNNBaseline有什么区别？\t\n",
    "1、能简要说明baseline的原理（5points)\n",
    "2、能简要说明BaselineOnly和KNNBaseline的区别（5points)\n",
    "\n",
    "Baseline算法：基于统计的基准预测线打分，并引入User的偏差进而Item的偏差；\n",
    "BaselineOnly是基于领域的协同过滤；\n",
    "KNNBaseline考虑基线评级的协同过滤，考虑到用户打分的偏差，偏差计算时基于baseline。"
   ]
  },
  {
   "cell_type": "markdown",
   "metadata": {},
   "source": [
    "Thinking5\t\n",
    "基于邻域的协同过滤都有哪些算法，请简述原理\t\t\n",
    "1、能说出两种不同的基于邻域的协同过滤的算法（5points）\n",
    "2、这些算法之间的区别和作用（5pionts）\n",
    "\n",
    "UserCF：利用行为的相似度计算用户的相似度，推荐和当前用户相似度高的N个用户产生过行为的物品给当前用户\n",
    "ItemCF：利用行为的相似度计算物品的相似度，推荐和当前用户历史上行为过的物品相似的物品给当前用户(可解释性强)\n",
    "\n",
    "ItemCF推荐的可解释性更强，用户数多使用userCF，物品数多使用ItemCF，\n",
    "如果物品列表经常变换，那么采用UserCF更准确；如果物品列表相对于用户更稳定，那么采用ItemCF\n",
    "在冷启动阶段，UserCF对于新加入的物品能很快进入推荐列表，ItemCF对新加入的用户能很快进行推荐。\n"
   ]
  }
 ],
 "metadata": {
  "kernelspec": {
   "display_name": "Python 3",
   "language": "python",
   "name": "python3"
  },
  "language_info": {
   "codemirror_mode": {
    "name": "ipython",
    "version": 3
   },
   "file_extension": ".py",
   "mimetype": "text/x-python",
   "name": "python",
   "nbconvert_exporter": "python",
   "pygments_lexer": "ipython3",
   "version": "3.8.3"
  }
 },
 "nbformat": 4,
 "nbformat_minor": 4
}
