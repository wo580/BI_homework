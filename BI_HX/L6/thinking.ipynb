{
 "cells": [
  {
   "cell_type": "markdown",
   "metadata": {},
   "source": [
    "Thinking1\tXGBoost与GBDT的区别是什么？\t\t\t\n",
    "简要说明这两者之间的区别（10points）\t\n",
    "\n",
    "区别:\n",
    "1.XGBoost, LightGBM, CatBoost, NGBoost实际上是对GBDT(Gradient Boosting Decision Tree,梯度提升树)方法的不同实现，针对同一目标、做了不同的优化处理;\n",
    "2.XGBoost将树模型的复杂度加入到正则项中，正则项是由叶子结点的数量和叶子结点权重的平方和决定，从而避免过拟合，泛化性能好(GBDT的工程化版本);\n",
    "3.GBDT将目标函数泰勒展开到一阶，XGBoost的损失函数是用泰勒展开式展开的，用到了一阶导和二阶导，可以加快优化速度;\n",
    "4.GBDT以CART作为基分类器，XGBoost不仅支持CART作为基分类器，还支持线性分类器，在使用线性分类器的时候可以使用L1，L2正则化;\n",
    "5.XGBoost在寻找最佳分割点时，采用近似贪心算法，用来加速计算;\n",
    "6.XGBoost支持并行计算，XGBoost的并行是基于特征计算的并行，将特征列排序后以block的形式存储在内存中，在后面的迭代中重复使用这个结构。在进行节点分裂时，计算每个特征的增益，选择增益最大的特征作为分割节点，各个特征的增益计算可以使用多线程并行.\n",
    "\n",
    "XGBoost:\n",
    "优点：速度快、效果好、能处理大规模数据、支持自定义损失函数等\n",
    "缺点：算法参数过多，调参复杂，不适合处理超高维特征数据\n"
   ]
  },
  {
   "cell_type": "markdown",
   "metadata": {},
   "source": [
    "Thinking2\t举一个你之前做过的预测例子（用的什么模型，解决什么问题，比如我用LR模型，对员工离职进行了预测，效果如何... 请分享到课程微信群中）\t\t\t\n",
    "简要说明之前做过的例子，用的模型，解决的问题，并且在群里分享（10points）\t\n",
    "\n",
    "例子：对泰坦尼克号进行生存预测\n",
    "模型：LR和TPOP\n",
    "效果：使用LR预测分数是0.87+，使用TPOP预测最佳模型是RandomForestClassifier，预测分为0.89+"
   ]
  },
  {
   "cell_type": "markdown",
   "metadata": {},
   "source": [
    "Thinking3\t请你思考，在你的工作中，需要构建哪些特征（比如用户画像，item特征...），这些特征都包括哪些维度（鼓励分享到微信群中，进行交流）\t\t\t\n",
    "能对工作场景，以及构造的特征进行洞察，在班级群中分享（10points）\t\n",
    "\n",
    "工作场景比如电商，在电商领域做到精准营销，会需要构建用户画像，用户画像就是给用户打标签，指根据用户的属性、用户偏好、生活习惯、用户行为等信息而抽象出来的标签化用户模型，\n",
    "用户画像的使用场景较多，用户画像可以用来挖掘用户兴趣、偏好、人口统计学特征，主要目的是提升营销精准度、推荐匹配度，终极目的是提升产品服务，起到提升企业利润。\n",
    "用户画像适合于各个产品周期：拉新引流、从老用户的培养到流失用户的回流等；\n",
    "\n",
    "用户画像主要应用场景：\n",
    "用户属性、用户标签、用户偏好、用户流失、用户行为、产品设计、\n",
    "个性化推荐、广告系统、活动营销、内容推荐、兴趣偏好"
   ]
  }
 ],
 "metadata": {
  "kernelspec": {
   "display_name": "Python 3",
   "language": "python",
   "name": "python3"
  },
  "language_info": {
   "codemirror_mode": {
    "name": "ipython",
    "version": 3
   },
   "file_extension": ".py",
   "mimetype": "text/x-python",
   "name": "python",
   "nbconvert_exporter": "python",
   "pygments_lexer": "ipython3",
   "version": "3.8.3"
  }
 },
 "nbformat": 4,
 "nbformat_minor": 4
}
