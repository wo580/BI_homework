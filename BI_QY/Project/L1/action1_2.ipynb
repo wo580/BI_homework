{
 "cells": [
  {
   "cell_type": "code",
   "execution_count": 5,
   "metadata": {},
   "outputs": [],
   "source": [
    "#使用神经网络\n",
    "from sklearn.preprocessing import MinMaxScaler\n",
    "from tensorflow import keras\n",
    "## 基础工具\n",
    "import numpy as np\n",
    "import pandas as pd\n",
    "import warnings\n",
    "import matplotlib\n",
    "import matplotlib.pyplot as plt\n",
    "import seaborn as sns\n",
    "from scipy.special import jn\n",
    "from IPython.display import display, clear_output\n",
    "import time\n",
    "import missingno as msno\n",
    "#导入warnings包，利用过滤器来实现忽略警告语句。\n",
    "import warnings\n",
    "warnings.filterwarnings('ignore')\n",
    "%matplotlib inline"
   ]
  },
  {
   "cell_type": "code",
   "execution_count": 6,
   "metadata": {},
   "outputs": [],
   "source": [
    "#载入训练集和测试集；\n",
    "path = './2sc/'\n",
    "train_data = pd.read_csv(path+'used_car_train_20200313.csv', sep=' ')\n",
    "test_data = pd.read_csv(path+'used_car_testB_20200421.csv', sep=' ')"
   ]
  },
  {
   "cell_type": "code",
   "execution_count": 7,
   "metadata": {},
   "outputs": [],
   "source": [
    "train_data[\"notRepairedDamage\"].replace(\"-\", \"0.0\", inplace=True)\n",
    "train_data[\"notRepairedDamage\"] = train_data[\"notRepairedDamage\"].astype(\"float64\")"
   ]
  },
  {
   "cell_type": "code",
   "execution_count": 8,
   "metadata": {},
   "outputs": [],
   "source": [
    "test_data[\"notRepairedDamage\"].replace(\"-\", \"0.0\", inplace=True)\n",
    "test_data[\"notRepairedDamage\"] = test_data[\"notRepairedDamage\"].astype(\"float64\")"
   ]
  },
  {
   "cell_type": "code",
   "execution_count": 9,
   "metadata": {},
   "outputs": [],
   "source": [
    "train_data.fillna(train_data.median(), inplace=True)\n",
    "test_data.fillna(test_data.median(), inplace=True)"
   ]
  },
  {
   "cell_type": "code",
   "execution_count": 10,
   "metadata": {},
   "outputs": [
    {
     "data": {
      "text/plain": [
       "count    150000.000000\n",
       "mean        119.316547\n",
       "std         177.168419\n",
       "min           0.000000\n",
       "25%          75.000000\n",
       "50%         110.000000\n",
       "75%         150.000000\n",
       "max       19312.000000\n",
       "Name: power, dtype: float64"
      ]
     },
     "execution_count": 10,
     "metadata": {},
     "output_type": "execute_result"
    }
   ],
   "source": [
    "train_data[\"power\"].describe()"
   ]
  },
  {
   "cell_type": "code",
   "execution_count": 11,
   "metadata": {},
   "outputs": [],
   "source": [
    "test_data[\"power\"][test_data[\"power\"]>600] = 600"
   ]
  },
  {
   "cell_type": "code",
   "execution_count": 12,
   "metadata": {},
   "outputs": [
    {
     "data": {
      "text/plain": [
       "['name',\n",
       " 'regDate',\n",
       " 'model',\n",
       " 'brand',\n",
       " 'bodyType',\n",
       " 'fuelType',\n",
       " 'gearbox',\n",
       " 'power',\n",
       " 'kilometer',\n",
       " 'notRepairedDamage',\n",
       " 'regionCode',\n",
       " 'seller',\n",
       " 'offerType',\n",
       " 'creatDate',\n",
       " 'v_0',\n",
       " 'v_1',\n",
       " 'v_2',\n",
       " 'v_3',\n",
       " 'v_4',\n",
       " 'v_5',\n",
       " 'v_6',\n",
       " 'v_7',\n",
       " 'v_8',\n",
       " 'v_9',\n",
       " 'v_10',\n",
       " 'v_11',\n",
       " 'v_12',\n",
       " 'v_13',\n",
       " 'v_14']"
      ]
     },
     "execution_count": 12,
     "metadata": {},
     "output_type": "execute_result"
    }
   ],
   "source": [
    "#特征归一化\n",
    "train_data[\"power\"][train_data[\"power\"]>600] = 600\n",
    "features = train_data.columns.tolist()\n",
    "features.remove(\"price\")\n",
    "features.remove(\"SaleID\")\n",
    "features"
   ]
  },
  {
   "cell_type": "code",
   "execution_count": 13,
   "metadata": {},
   "outputs": [],
   "source": [
    "min_max_scaler = MinMaxScaler()\n",
    "x = min_max_scaler.fit_transform(train_data[features].values)\n",
    "x_test = min_max_scaler.transform(test_data[features].values)"
   ]
  },
  {
   "cell_type": "code",
   "execution_count": 14,
   "metadata": {},
   "outputs": [],
   "source": [
    "y = train_data[\"price\"].values"
   ]
  },
  {
   "cell_type": "code",
   "execution_count": 15,
   "metadata": {},
   "outputs": [],
   "source": [
    "from sklearn.model_selection import GridSearchCV,cross_val_score,StratifiedKFold,train_test_split\n",
    "from sklearn.metrics import mean_squared_error, mean_absolute_error\n",
    "train_x, test_x, train_y, test_y = train_test_split(x, y, test_size=0.2)"
   ]
  },
  {
   "cell_type": "code",
   "execution_count": 24,
   "metadata": {},
   "outputs": [],
   "source": [
    "#搭建模型\n",
    "model = keras.Sequential([\n",
    "    keras.layers.Dense(300, activation=\"relu\", input_shape=[len(features)]),\n",
    "    keras.layers.Dense(300, activation=\"relu\"),\n",
    "    keras.layers.Dense(200, activation=\"relu\"),\n",
    "    keras.layers.Dense(1)\n",
    "])\n",
    "model.compile(loss=\"mae\", optimizer=\"Adam\")"
   ]
  },
  {
   "cell_type": "code",
   "execution_count": 17,
   "metadata": {},
   "outputs": [
    {
     "name": "stdout",
     "output_type": "stream",
     "text": [
      "训练集评估 MAE：  5919.243112109957\n",
      "测试集评估 MAE：  5939.009354855792\n"
     ]
    }
   ],
   "source": [
    "#模型评估\n",
    "print(\"训练集评估 MAE： \", mean_absolute_error(train_y, model.predict(train_x)))\n",
    "print(\"测试集评估 MAE： \", mean_absolute_error(test_y, model.predict(test_x)))"
   ]
  },
  {
   "cell_type": "code",
   "execution_count": 18,
   "metadata": {},
   "outputs": [
    {
     "name": "stdout",
     "output_type": "stream",
     "text": [
      "Epoch 1/100\n",
      "147/147 [==============================] - 1s 10ms/step - loss: 5040.8789\n",
      "Epoch 2/100\n",
      "147/147 [==============================] - 1s 9ms/step - loss: 3267.5364\n",
      "Epoch 3/100\n",
      "147/147 [==============================] - 1s 9ms/step - loss: 1538.2218\n",
      "Epoch 4/100\n",
      "147/147 [==============================] - 1s 10ms/step - loss: 1177.5701\n",
      "Epoch 5/100\n",
      "147/147 [==============================] - 1s 10ms/step - loss: 1072.1326\n",
      "Epoch 6/100\n",
      "147/147 [==============================] - 1s 9ms/step - loss: 1007.7998\n",
      "Epoch 7/100\n",
      "147/147 [==============================] - 2s 11ms/step - loss: 957.6326\n",
      "Epoch 8/100\n",
      "147/147 [==============================] - 2s 11ms/step - loss: 918.5248\n",
      "Epoch 9/100\n",
      "147/147 [==============================] - 2s 11ms/step - loss: 885.3823\n",
      "Epoch 10/100\n",
      "147/147 [==============================] - 2s 11ms/step - loss: 858.6318\n",
      "Epoch 11/100\n",
      "147/147 [==============================] - 2s 10ms/step - loss: 835.2467\n",
      "Epoch 12/100\n",
      "147/147 [==============================] - 2s 10ms/step - loss: 813.0200\n",
      "Epoch 13/100\n",
      "147/147 [==============================] - 2s 11ms/step - loss: 794.3557\n",
      "Epoch 14/100\n",
      "147/147 [==============================] - 2s 12ms/step - loss: 777.1305\n",
      "Epoch 15/100\n",
      "147/147 [==============================] - 2s 11ms/step - loss: 761.1752\n",
      "Epoch 16/100\n",
      "147/147 [==============================] - 2s 11ms/step - loss: 746.5690\n",
      "Epoch 17/100\n",
      "147/147 [==============================] - 2s 11ms/step - loss: 733.8896\n",
      "Epoch 18/100\n",
      "147/147 [==============================] - 1s 10ms/step - loss: 722.8170\n",
      "Epoch 19/100\n",
      "147/147 [==============================] - 1s 10ms/step - loss: 710.9745\n",
      "Epoch 20/100\n",
      "147/147 [==============================] - 1s 10ms/step - loss: 701.2737\n",
      "Epoch 21/100\n",
      "147/147 [==============================] - 1s 9ms/step - loss: 692.5408\n",
      "Epoch 22/100\n",
      "147/147 [==============================] - 1s 9ms/step - loss: 682.7975\n",
      "Epoch 23/100\n",
      "147/147 [==============================] - 1s 9ms/step - loss: 677.2184\n",
      "Epoch 24/100\n",
      "147/147 [==============================] - 1s 10ms/step - loss: 669.3904\n",
      "Epoch 25/100\n",
      "147/147 [==============================] - 1s 9ms/step - loss: 663.2599\n",
      "Epoch 26/100\n",
      "147/147 [==============================] - 1s 9ms/step - loss: 658.3748\n",
      "Epoch 27/100\n",
      "147/147 [==============================] - 1s 9ms/step - loss: 653.3136\n",
      "Epoch 28/100\n",
      "147/147 [==============================] - 1s 10ms/step - loss: 648.0294\n",
      "Epoch 29/100\n",
      "147/147 [==============================] - 1s 10ms/step - loss: 645.3143\n",
      "Epoch 30/100\n",
      "147/147 [==============================] - 1s 10ms/step - loss: 640.1210\n",
      "Epoch 31/100\n",
      "147/147 [==============================] - 1s 9ms/step - loss: 635.2825\n",
      "Epoch 32/100\n",
      "147/147 [==============================] - 1s 9ms/step - loss: 631.5266\n",
      "Epoch 33/100\n",
      "147/147 [==============================] - 2s 11ms/step - loss: 628.5078\n",
      "Epoch 34/100\n",
      "147/147 [==============================] - 2s 11ms/step - loss: 624.9123\n",
      "Epoch 35/100\n",
      "147/147 [==============================] - 2s 11ms/step - loss: 621.5392\n",
      "Epoch 36/100\n",
      "147/147 [==============================] - 2s 11ms/step - loss: 616.9931\n",
      "Epoch 37/100\n",
      "147/147 [==============================] - 2s 13ms/step - loss: 613.6638\n",
      "Epoch 38/100\n",
      "147/147 [==============================] - 2s 12ms/step - loss: 608.3163\n",
      "Epoch 39/100\n",
      "147/147 [==============================] - 2s 14ms/step - loss: 603.4460\n",
      "Epoch 40/100\n",
      "147/147 [==============================] - 2s 14ms/step - loss: 598.7310\n",
      "Epoch 41/100\n",
      "147/147 [==============================] - 2s 14ms/step - loss: 594.9841\n",
      "Epoch 42/100\n",
      "147/147 [==============================] - 2s 13ms/step - loss: 589.2435\n",
      "Epoch 43/100\n",
      "147/147 [==============================] - 2s 12ms/step - loss: 584.8544\n",
      "Epoch 44/100\n",
      "147/147 [==============================] - 2s 12ms/step - loss: 580.5742\n",
      "Epoch 45/100\n",
      "147/147 [==============================] - 2s 11ms/step - loss: 577.8954:\n",
      "Epoch 46/100\n",
      "147/147 [==============================] - 2s 11ms/step - loss: 575.0651\n",
      "Epoch 47/100\n",
      "147/147 [==============================] - 2s 11ms/step - loss: 571.6246\n",
      "Epoch 48/100\n",
      "147/147 [==============================] - 2s 14ms/step - loss: 569.8856\n",
      "Epoch 49/100\n",
      "147/147 [==============================] - 2s 11ms/step - loss: 568.3666\n",
      "Epoch 50/100\n",
      "147/147 [==============================] - 2s 11ms/step - loss: 564.4104\n",
      "Epoch 51/100\n",
      "147/147 [==============================] - 2s 10ms/step - loss: 562.8561\n",
      "Epoch 52/100\n",
      "147/147 [==============================] - 2s 10ms/step - loss: 559.7914\n",
      "Epoch 53/100\n",
      "147/147 [==============================] - 1s 10ms/step - loss: 558.7978\n",
      "Epoch 54/100\n",
      "147/147 [==============================] - 2s 12ms/step - loss: 556.0564\n",
      "Epoch 55/100\n",
      "147/147 [==============================] - 2s 11ms/step - loss: 555.3633\n",
      "Epoch 56/100\n",
      "147/147 [==============================] - 2s 12ms/step - loss: 553.5201\n",
      "Epoch 57/100\n",
      "147/147 [==============================] - 2s 12ms/step - loss: 551.4334\n",
      "Epoch 58/100\n",
      "147/147 [==============================] - 2s 11ms/step - loss: 550.9905\n",
      "Epoch 59/100\n",
      "147/147 [==============================] - 2s 11ms/step - loss: 548.1262\n",
      "Epoch 60/100\n",
      "147/147 [==============================] - 2s 10ms/step - loss: 548.7974\n",
      "Epoch 61/100\n",
      "147/147 [==============================] - 2s 10ms/step - loss: 546.8531\n",
      "Epoch 62/100\n",
      "147/147 [==============================] - 2s 11ms/step - loss: 545.6551\n",
      "Epoch 63/100\n",
      "147/147 [==============================] - 2s 11ms/step - loss: 544.9711\n",
      "Epoch 64/100\n",
      "147/147 [==============================] - 2s 12ms/step - loss: 544.1852\n",
      "Epoch 65/100\n",
      "147/147 [==============================] - 2s 11ms/step - loss: 542.8041\n",
      "Epoch 66/100\n",
      "147/147 [==============================] - 2s 11ms/step - loss: 541.4146\n",
      "Epoch 67/100\n",
      "147/147 [==============================] - 2s 12ms/step - loss: 542.3701\n",
      "Epoch 68/100\n",
      "147/147 [==============================] - 2s 11ms/step - loss: 540.3090\n",
      "Epoch 69/100\n",
      "147/147 [==============================] - 2s 12ms/step - loss: 539.4717\n",
      "Epoch 70/100\n",
      "147/147 [==============================] - 2s 13ms/step - loss: 538.2898\n",
      "Epoch 71/100\n",
      "147/147 [==============================] - 2s 14ms/step - loss: 537.8685\n",
      "Epoch 72/100\n",
      "147/147 [==============================] - 2s 11ms/step - loss: 535.7191\n",
      "Epoch 73/100\n",
      "147/147 [==============================] - 2s 11ms/step - loss: 536.7469\n",
      "Epoch 74/100\n",
      "147/147 [==============================] - 2s 12ms/step - loss: 535.5458\n",
      "Epoch 75/100\n",
      "147/147 [==============================] - 2s 12ms/step - loss: 534.7899\n",
      "Epoch 76/100\n",
      "147/147 [==============================] - 2s 12ms/step - loss: 534.5701\n",
      "Epoch 77/100\n",
      "147/147 [==============================] - 2s 12ms/step - loss: 533.8415\n",
      "Epoch 78/100\n",
      "147/147 [==============================] - 2s 11ms/step - loss: 533.4014- ETA: 0s - loss: 53\n",
      "Epoch 79/100\n",
      "147/147 [==============================] - 2s 10ms/step - loss: 534.5732\n",
      "Epoch 80/100\n",
      "147/147 [==============================] - 2s 11ms/step - loss: 533.0281\n",
      "Epoch 81/100\n",
      "147/147 [==============================] - 2s 11ms/step - loss: 532.6980\n",
      "Epoch 82/100\n",
      "147/147 [==============================] - 2s 11ms/step - loss: 530.6513\n",
      "Epoch 83/100\n",
      "147/147 [==============================] - 2s 11ms/step - loss: 530.4396\n",
      "Epoch 84/100\n",
      "147/147 [==============================] - 2s 11ms/step - loss: 529.4014\n",
      "Epoch 85/100\n",
      "147/147 [==============================] - 2s 12ms/step - loss: 528.7654\n",
      "Epoch 86/100\n",
      "147/147 [==============================] - 2s 11ms/step - loss: 527.6605\n",
      "Epoch 87/100\n",
      "147/147 [==============================] - 2s 12ms/step - loss: 526.4499\n",
      "Epoch 88/100\n",
      "147/147 [==============================] - 2s 12ms/step - loss: 527.4870\n",
      "Epoch 89/100\n",
      "147/147 [==============================] - 1s 10ms/step - loss: 526.7119\n",
      "Epoch 90/100\n",
      "147/147 [==============================] - 2s 11ms/step - loss: 524.4304\n",
      "Epoch 91/100\n",
      "147/147 [==============================] - 2s 10ms/step - loss: 525.0310\n",
      "Epoch 92/100\n",
      "147/147 [==============================] - 1s 10ms/step - loss: 524.1336\n",
      "Epoch 93/100\n",
      "147/147 [==============================] - 1s 10ms/step - loss: 525.3021\n",
      "Epoch 94/100\n",
      "147/147 [==============================] - 1s 10ms/step - loss: 526.1965\n",
      "Epoch 95/100\n",
      "147/147 [==============================] - 1s 10ms/step - loss: 524.4979: 0s\n",
      "Epoch 96/100\n",
      "147/147 [==============================] - 2s 10ms/step - loss: 522.3860\n",
      "Epoch 97/100\n",
      "147/147 [==============================] - 2s 10ms/step - loss: 522.6687\n",
      "Epoch 98/100\n",
      "147/147 [==============================] - 2s 11ms/step - loss: 520.9545\n",
      "Epoch 99/100\n",
      "147/147 [==============================] - 1s 10ms/step - loss: 521.9173\n",
      "Epoch 100/100\n",
      "147/147 [==============================] - 1s 10ms/step - loss: 522.1346\n"
     ]
    },
    {
     "data": {
      "text/plain": [
       "<tensorflow.python.keras.callbacks.History at 0x157d1096520>"
      ]
     },
     "execution_count": 18,
     "metadata": {},
     "output_type": "execute_result"
    }
   ],
   "source": [
    "#用全量数据训练\n",
    "model = keras.Sequential([\n",
    "    keras.layers.Dense(200, activation=\"relu\", input_shape=[len(features)]),\n",
    "    keras.layers.Dense(100, activation=\"relu\"),\n",
    "    keras.layers.Dense(100, activation=\"relu\"),\n",
    "    keras.layers.Dense(1)\n",
    "])\n",
    "model.compile(loss=\"mae\", optimizer=\"Adam\")\n",
    "model.fit(x, y, batch_size=1024, epochs=200)"
   ]
  },
  {
   "cell_type": "code",
   "execution_count": 19,
   "metadata": {},
   "outputs": [],
   "source": [
    "#输出结果\n",
    "predict_y = model.predict(x_test)\n",
    "\n",
    "result = pd.DataFrame()\n",
    "result[\"SaleID\"] = test_data[\"SaleID\"]\n",
    "result[\"price\"] = predict_y\n",
    "#result[\"price\"][result[\"price\"] < 11] = 11\n",
    "result.loc[result[\"price\"] <11, \"price\"] = 11\n",
    "result.loc[result[\"price\"] >99999, \"price\"] = 99999\n",
    "result.to_csv(\"ans_nn.csv\", index=False)"
   ]
  },
  {
   "cell_type": "code",
   "execution_count": 21,
   "metadata": {},
   "outputs": [],
   "source": [
    "#定义统计函数，方便了解数据分布\n",
    "def show_stats(data):\n",
    "    print(\"min： \", np.min(data))\n",
    "    print(\"max： \", np.max(data))\n",
    "    print(\"ptp： \", np.ptp(data))\n",
    "    print(\"mean： \", np.mean(data))\n",
    "    print(\"std： \", np.std(data))\n",
    "    print(\"var： \", np.var(data))"
   ]
  },
  {
   "cell_type": "code",
   "execution_count": 22,
   "metadata": {},
   "outputs": [
    {
     "name": "stdout",
     "output_type": "stream",
     "text": [
      "min：  -36.3267\n",
      "max：  100750.7\n",
      "ptp：  100787.03\n",
      "mean：  5892.5933\n",
      "std：  7390.361\n",
      "var：  54617436.0\n"
     ]
    }
   ],
   "source": [
    "show_stats(predict_y)"
   ]
  },
  {
   "cell_type": "code",
   "execution_count": 23,
   "metadata": {},
   "outputs": [
    {
     "name": "stdout",
     "output_type": "stream",
     "text": [
      "min：  SaleID    200000.0\n",
      "price         11.0\n",
      "dtype: float64\n",
      "max：  SaleID    249999.0\n",
      "price      99999.0\n",
      "dtype: float64\n",
      "ptp：  249988.0\n",
      "mean：  SaleID    224999.500000\n",
      "price       5892.579179\n",
      "dtype: float64\n",
      "std：  SaleID    14433.756727\n",
      "price      7390.167904\n",
      "dtype: float64\n",
      "var：  SaleID    2.083333e+08\n",
      "price     5.461458e+07\n",
      "dtype: float64\n"
     ]
    }
   ],
   "source": [
    "show_stats(result)"
   ]
  },
  {
   "cell_type": "markdown",
   "metadata": {},
   "source": []
  },
  {
   "cell_type": "code",
   "execution_count": null,
   "metadata": {},
   "outputs": [],
   "source": []
  },
  {
   "cell_type": "code",
   "execution_count": null,
   "metadata": {},
   "outputs": [],
   "source": []
  }
 ],
 "metadata": {
  "kernelspec": {
   "display_name": "Python 3",
   "language": "python",
   "name": "python3"
  },
  "language_info": {
   "codemirror_mode": {
    "name": "ipython",
    "version": 3
   },
   "file_extension": ".py",
   "mimetype": "text/x-python",
   "name": "python",
   "nbconvert_exporter": "python",
   "pygments_lexer": "ipython3",
   "version": "3.8.3"
  }
 },
 "nbformat": 4,
 "nbformat_minor": 4
}
