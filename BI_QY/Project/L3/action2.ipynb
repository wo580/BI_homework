{
 "cells": [
  {
   "cell_type": "markdown",
   "metadata": {},
   "source": [
    "Action2\t\n",
    "一个农民承包了6块耕地共300亩，准备播种小麦，玉米，水果和蔬菜四种农产品，已知各种农产品的计划播种面积、每块土地种植不同农产品的单产收益\n",
    "如何进行合理安排，使得总收益最大\n",
    "可以使用pulp/ortools工具\t\n",
    "1、能使用pulp或ortools工具（10points）\n",
    "2、结果正确（10points）"
   ]
  },
  {
   "cell_type": "markdown",
   "metadata": {},
   "source": [
    "                  单产收益（元/亩）\t\t\t\t\t\t      计划播种面积（亩）\n",
    "              地块1   地块2\t地块3 \t地块4 \t地块5\t地块6\t\n",
    "小麦\t         500\t550\t  630\t   1000      800\t700\t    76\n",
    "玉米\t         800\t700\t  600\t   950\t     900\t930   \t88\n",
    "水果\t         1000\t960\t  840\t   650\t     600\t700 \t96\n",
    "蔬菜\t         1200\t1040  980\t   860\t     880\t780 \t40\n",
    "地块面积（亩）\t 42\t    56\t  44\t   39\t     60\t    59\t"
   ]
  },
  {
   "cell_type": "code",
   "execution_count": 20,
   "metadata": {},
   "outputs": [],
   "source": [
    "#pulp\n",
    "import pulp\n",
    "import numpy as np"
   ]
  },
  {
   "cell_type": "code",
   "execution_count": 21,
   "metadata": {},
   "outputs": [],
   "source": [
    "costs  = np.array([[500,550,630,1000,800,700],\t  \n",
    "                   [800,700,600,950,900,930],\n",
    "                   [1000,960,840,650,600,700], \t\n",
    "                   [1200,1040,980, 860,880,780]])\n",
    "#最大产量\n",
    "max_plant = [76,88,96,40]\n",
    "#最大耕种\n",
    "max_cultivation = [42,56,44,39,60,59]"
   ]
  },
  {
   "cell_type": "code",
   "execution_count": 32,
   "metadata": {},
   "outputs": [],
   "source": [
    "#定义问题\n",
    "def farming_problem(costs,x_max,y_max):\n",
    "    row = len(costs)\n",
    "    col = len(costs[0])\n",
    "    print(row)#4行\n",
    "    print(col)#6列\n",
    "    #定义初始问题\n",
    "    prob = pulp.LpProblem('Farming', sense=pulp.LpMaximize)\n",
    "    #定义相关变量\n",
    "    var = [[pulp.LpVariable(f'x{i}{j}', lowBound=0, cat=pulp.LpInteger) for j in range(col)] for i in range(row)]\n",
    "    #递归展开列表\n",
    "    flatten = lambda x: [y for l in x for y in flatten(l)] if type(x) is list else [x]\n",
    "    print('flatten=\\n',flatten)\n",
    "    print('var:\\n',var)\n",
    "    #定义目标函数\n",
    "    prob += pulp.lpDot(flatten(var),costs.flatten())\n",
    "   \n",
    "    #定义约束条件\n",
    "    for i in range(row):\n",
    "        prob += pulp.lpSum(var[i]) <=x_max[i] \n",
    "    for j in range(col):\n",
    "        prob += pulp.lpSum(var[i][j] for i in range(row)) <=y_max[i]\n",
    "    prob.solve()\n",
    "    result = {'obj':pulp.value(prob.objective),\n",
    "              'var':[[pulp.value(var[i][j]) for j in range(col)] for i in range(row)]}\n",
    "    return result"
   ]
  },
  {
   "cell_type": "code",
   "execution_count": 33,
   "metadata": {},
   "outputs": [
    {
     "name": "stdout",
     "output_type": "stream",
     "text": [
      "4\n",
      "6\n",
      "flatten=\n",
      " <function farming_problem.<locals>.<lambda> at 0x0000024C03CE3160>\n",
      "var:\n",
      " [[x00, x01, x02, x03, x04, x05], [x10, x11, x12, x13, x14, x15], [x20, x21, x22, x23, x24, x25], [x30, x31, x32, x33, x34, x35]]\n",
      "最大值: 227510.0\n",
      "各个变量的取值:\n",
      " [[0.0, 0.0, 0.0, 39.0, 0.0, 0.0], [0.0, 0.0, 0.0, 0.0, 39.0, 39.0], [0.0, 39.0, 38.0, 0.0, 0.0, 0.0], [39.0, 0.0, 1.0, 0.0, 0.0, 0.0]]\n"
     ]
    }
   ],
   "source": [
    "#使用线性规划\n",
    "result = farming_problem(costs,max_plant,max_cultivation)\n",
    "#print(result) \n",
    "print('最大值:',result['obj'])\n",
    "print('各个变量的取值:\\n',result['var'])"
   ]
  },
  {
   "cell_type": "markdown",
   "metadata": {},
   "source": []
  },
  {
   "cell_type": "markdown",
   "metadata": {},
   "source": [
    "#ortools工具"
   ]
  },
  {
   "cell_type": "code",
   "execution_count": null,
   "metadata": {},
   "outputs": [],
   "source": [
    "# 定义初始问题\n",
    "prob = pulp.LpProblem('Transportation', sense=pulp.LpMaximize)\n",
    "# 定义相关变量\n",
    "var = [[pulp.LpVariable(f'x{i}{j}', lowBound=0, cat=pulp.LpInteger) for j in range(col)] for i in range(row)]\n",
    "……\n",
    "# 使用f 进行格式化字符串\n",
    "print(f'最大值为{result[\"objective\"]}’)\n"
   ]
  },
  {
   "cell_type": "code",
   "execution_count": null,
   "metadata": {},
   "outputs": [],
   "source": [
    "# 求解器定义\n",
    "solver = pywraplp.Solver.CreateSolver('SCIP')\n",
    "solver= pywraplp.Solver('AssignmentProblem', pywraplp.Solver.GLOP_LINEAR_PROGRAMMING)\n",
    "solver = pywraplp.Solver('AssignmentProblem', pywraplp.Solver.CBC_MIXED_INTEGER_PROGRAMMING)\n"
   ]
  },
  {
   "cell_type": "code",
   "execution_count": null,
   "metadata": {},
   "outputs": [],
   "source": [
    "solver = pywraplp.Solver.CreateSolver('SCIP')\n",
    "变量设置\n",
    "solver.NumVar：创建普通变量\n",
    "solver.IntVar：创建整数变量\n",
    "\n",
    "infinity = solver.infinity() # 正无穷\n",
    "x = solver.IntVar(0.0, infinity, 'x')\n",
    "print('变量数量：', solver.NumVariables())\n",
    "添加约束条件\n",
    "solver.Add(x + 7 * y <= 17.5)\n",
    "print('约束的数量：', solver.NumConstraints())\n",
    "Solve求解\n",
    "# 求解最大值问题\n",
    "solver.Maximize(x + 10 * y)\n",
    "status = solver.Solve()\n",
    "#Solve的结果\n",
    "print('目标值 =', solver.Objective().Value())\n",
    "print('x =', x.solution_value())\n",
    "print('y =', y.solution_value())\n"
   ]
  },
  {
   "cell_type": "code",
   "execution_count": null,
   "metadata": {},
   "outputs": [],
   "source": []
  }
 ],
 "metadata": {
  "kernelspec": {
   "display_name": "Python 3",
   "language": "python",
   "name": "python3"
  },
  "language_info": {
   "codemirror_mode": {
    "name": "ipython",
    "version": 3
   },
   "file_extension": ".py",
   "mimetype": "text/x-python",
   "name": "python",
   "nbconvert_exporter": "python",
   "pygments_lexer": "ipython3",
   "version": "3.8.3"
  }
 },
 "nbformat": 4,
 "nbformat_minor": 4
}
