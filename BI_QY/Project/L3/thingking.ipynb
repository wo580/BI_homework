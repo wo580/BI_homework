{
 "cells": [
  {
   "cell_type": "markdown",
   "metadata": {},
   "source": [
    "Thinking1\t常见的规划问题都包括哪些？\t\t\n",
    "能简要说明常见的规划问题（10points）\n",
    "\n",
    "规划问题：线性规划(较简单)、整数规划、混合整数规划\n",
    "LP：Linear Programming 线性规划:研究线性约束条件下线性目标函数的极值问题\n",
    "\n",
    "ILP：Integer Linear Programming 整数线性规划:全部决策变量必须为整数\n",
    "\n",
    "MIP：Mixed Integer Programming 混合整数规划:混合整数规划是LP的一种，其中部分的决策变量是整数（不要求全部都是整数）\n",
    "VRP：Vehicle Routing Problem 车辆路径问题\n",
    "\n"
   ]
  },
  {
   "cell_type": "markdown",
   "metadata": {},
   "source": [
    "Thinking2\t常用的规划工具包都有哪些？\t\t\t\n",
    "能简要说明常用的规划工具（10points）\n",
    "\n",
    "规划工具：\n",
    "pulp\n",
    "只用于线性模型，包括如整数规划、01规划，还是混合整数线性规划 MILP\n",
    "\n",
    "ortools\n",
    "Google开发，用于优化的开源软件\n",
    "可以解决车辆路径、流程、整数和线性规划等问题\n",
    "提供了C++,Python,Java,.NET接口"
   ]
  },
  {
   "cell_type": "markdown",
   "metadata": {},
   "source": [
    "Thinking3\tRFM模型的原理是怎样的\t\t\n",
    "能简要说明RFM模型的原理（10points）\n",
    "\n",
    "RFM即Recency（最近一次消费时间间隔）、Frequency（一段时间内的消费频率）和Monetary（一段时间内的消费金额）,RFM模型是衡量客户价值和客户创利能力的重要工具和手段\n",
    "原理:\n",
    "（1） 最近一次消费时间间隔（R），上一次消费离得越近，R值越小，用户价值越高\n",
    "（2） 消费频率（F），购买的频率越高，F值越大，用户价值越高\n",
    "（3） 消费金额（M），消费金额越高，M值越大，用户价值越高\n",
    "将用户分类:\n",
    "（1） 根据消费金额的高低，分为“重要用户”和“一般用户”\n",
    "（2） 如果R高（最近一次消费时间间隔低）、F高（一段时间内消费频率高）则是“价值用户”\n",
    "（3） 如果R高（最近一次消费时间间隔低）、F低（一段时间内消费频率低）则是“发展用户”\n",
    "（4） 如果R低（最近一次消费时间间隔大）、F高（一段时间内消费频率高）则是“保持用户”\n",
    "（5） 如果R低（最近一次消费时间间隔大）、F低（一段时间内消费频率低）则是“挽留用户”"
   ]
  }
 ],
 "metadata": {
  "kernelspec": {
   "display_name": "Python 3",
   "language": "python",
   "name": "python3"
  },
  "language_info": {
   "codemirror_mode": {
    "name": "ipython",
    "version": 3
   },
   "file_extension": ".py",
   "mimetype": "text/x-python",
   "name": "python",
   "nbconvert_exporter": "python",
   "pygments_lexer": "ipython3",
   "version": "3.8.3"
  }
 },
 "nbformat": 4,
 "nbformat_minor": 4
}
