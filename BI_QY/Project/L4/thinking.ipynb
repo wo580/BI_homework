{
 "cells": [
  {
   "cell_type": "markdown",
   "metadata": {},
   "source": [
    "Thinking1\t对于同一个带约束的规划问题，LP和MIP哪个运算复杂度高，为什么？\t\t\t\n",
    "能简要说明两者之间的区别及运算复杂度（10points）\t\n",
    "\n",
    "MIP运算复杂度高:无法使用数学优化的方式:\n",
    "LP：Linear Programming 线性规划:研究线性约束条件下线性目标函数的极值问题的数学理论和方法;\n",
    "MIP：Mixed Integer Programming 混合整数规划:混合整数规划是LP的一种，其中部分的决策变量是整数（不要求全部都是整数）\n"
   ]
  },
  {
   "cell_type": "markdown",
   "metadata": {},
   "source": [
    "Thinking2\tTSP与VRP问题的关系是怎样的？\t\t\t\n",
    "能简要说明TSP与VRP的关系（10points）\t\n",
    "\n",
    "Travelling Salesman Problem(商旅问题#一辆车的问题):\n",
    "一个旅行商想去拜访若干城市，然后回到他的出发地，给定各个城市之间所需的旅行时间后，怎样计划他的路线，使得他能对每个城市恰好进行一次访问，而且总时间最短\n",
    "\n",
    "Vehicle Routing Problem(车辆路径问题，可以看成旅行商问题的推广):\n",
    "有N辆车，都从原点出发，每辆车访问一些点后回到原点，要求所有的点都要被访问到，求最短的车辆行驶距离或最少需要的车辆数"
   ]
  }
 ],
 "metadata": {
  "kernelspec": {
   "display_name": "Python 3",
   "language": "python",
   "name": "python3"
  },
  "language_info": {
   "codemirror_mode": {
    "name": "ipython",
    "version": 3
   },
   "file_extension": ".py",
   "mimetype": "text/x-python",
   "name": "python",
   "nbconvert_exporter": "python",
   "pygments_lexer": "ipython3",
   "version": "3.8.3"
  }
 },
 "nbformat": 4,
 "nbformat_minor": 4
}
