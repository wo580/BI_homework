{
 "cells": [
  {
   "cell_type": "markdown",
   "metadata": {},
   "source": [
    "Action2\n",
    "对Titanic数据进行清洗，建模并对乘客生存进行预测。使用之前介绍过的10种模型中的至少2种（包括TPOT）Titanic\t\t\n",
    "1、完成代码，结果正确（20points）\n",
    "2、能使用TPOT完成预测（20points）"
   ]
  },
  {
   "cell_type": "code",
   "execution_count": null,
   "metadata": {},
   "outputs": [],
   "source": [
    "import numpy as np\n",
    "import pandas as pd\n",
    "from sklearn.tree import DecisionTreeClassifier\n",
    "from sklearn.feature_extraction import DictVectorizer\n",
    "from sklearn.model_selection import cross_val_score\n",
    "from sklearn import metrics\n",
    "from sklearn.feature_extraction import DictVectorizer"
   ]
  },
  {
   "cell_type": "code",
   "execution_count": null,
   "metadata": {},
   "outputs": [],
   "source": [
    "# 使用平均年龄来填充年龄中的nan值\n",
    "train_data['Age'].fillna(train_data['Age'].mean(), inplace=True)\n",
    "test_data['Age'].fillna(test_data['Age'].mean(),inplace=True)\n",
    "# 使用票价的均值填充票价中的nan值\n",
    "train_data['Fare'].fillna(train_data['Fare'].mean(), inplace=True)\n",
    "test_data['Fare'].fillna(test_data['Fare'].mean(),inplace=True)"
   ]
  },
  {
   "cell_type": "code",
   "execution_count": null,
   "metadata": {},
   "outputs": [],
   "source": [
    "print(train_data['Embarked'].value_counts())#高频词\n",
    "# 使用登录最多的港口来填充登录港口的nan值\n",
    "train_data['Embarked'].fillna('S', inplace=True)\n",
    "test_data['Embarked'].fillna('S',inplace=True)"
   ]
  },
  {
   "cell_type": "code",
   "execution_count": null,
   "metadata": {},
   "outputs": [],
   "source": [
    "# 特征选择\n",
    "features = ['Pclass', 'Sex', 'Age', 'SibSp', 'Parch', 'Fare', 'Embarked']\n",
    "train_features = train_data[features]\n",
    "train_labels = train_data['Survived']\n",
    "test_features = test_data[features]\n",
    "print('特征值')\n",
    "print(train_features)\n",
    "dvec=DictVectorizer(sparse=False)#将非数字化(符号化)的但具有一定结构的特征数据，转成数字0/1表示\n",
    "train_features=dvec.fit_transform(train_features.to_dict(orient='record'))\n",
    "print(dvec.feature_names_)"
   ]
  },
  {
   "cell_type": "code",
   "execution_count": null,
   "metadata": {},
   "outputs": [],
   "source": [
    "# # 构造ID3决策树\n",
    "# clf = DecisionTreeClassifier(criterion='entropy')\n",
    "# # 决策树训练\n",
    "# clf.fit(train_features, train_labels)\n",
    "\n",
    "# test_features=dvec.transform(test_features.to_dict(orient='record'))\n",
    "# # 决策树预测\n",
    "# pred_labels = clf.predict(test_features)\n",
    "# # 得到决策树准确率(基于训练集)\n",
    "# acc_decision_tree = round(clf.score(train_features, train_labels), 6)\n",
    "# print(u'score准确率为 %.4lf' % acc_decision_tree)\n",
    "# # 使用K折交叉验证 统计决策树准确率\n",
    "# print(u'cross_val_score准确率为 %.4lf' % np.mean(cross_val_score(clf, train_features, train_labels, cv=10)))"
   ]
  },
  {
   "cell_type": "code",
   "execution_count": null,
   "metadata": {},
   "outputs": [],
   "source": [
    "# import pandas as pd\n",
    "# import numpy as np\n",
    "# from pandas import Series, DataFrame\n",
    "# import matplotlib.pyplot as plt\n",
    "# def show_feature_importance(feature_list, feature_importance):\n",
    "# \t# 设定阈值\n",
    "# \tfi_threshold = 20\n",
    "# \t# 重要特征的下标\n",
    "# \timportant_idx = np.where(feature_importance > fi_threshold)[0]\n",
    "# \t# 特征名称\n",
    "# \timportant_features = [feature_list[i] for i in important_idx]\n",
    "# \t# 重要特征\n",
    "# \tsorted_idx = np.argsort(feature_importance[important_idx])[::-1]\n",
    "# \t# 可视化\n",
    "# \tpos = np.arange(sorted_idx.shape[0]) + 0.5\n",
    "# \tplt.subplot(1, 2, 2)\n",
    "# \tplt.title('Feature Importance')\n",
    "# \tplt.barh(pos, feature_importance[important_idx][sorted_idx[::-1]], color='r',align='center')\n",
    "# \tplt.yticks(pos, [important_features[i] for i in sorted_idx[::-1]])\n",
    "# \tplt.xlabel('Relative Importance')\n",
    "# \tplt.draw()\n",
    "# \tplt.show()\n",
    "\n",
    "# from sklearn.linear_model import LogisticRegression\n",
    "# # 使用LR分类器\n",
    "# clf = LogisticRegression(max_iter=100, verbose=True, random_state=33, tol=1e-4)\n",
    "# clf.fit(train_features, train_labels)\n",
    "# # 获取特征重要性（更容易幸存的特征）\n",
    "# feature_importance = clf.coef_[0]\n",
    "# feature_importance = 100.0 * (feature_importance / feature_importance.max())\n",
    "# print(feature_importance)\n",
    "# show_feature_importance(dvec.feature_names_, feature_importance)"
   ]
  },
  {
   "cell_type": "code",
   "execution_count": null,
   "metadata": {},
   "outputs": [],
   "source": [
    "# 使用TPOP对iris进行分类\n",
    "from tpot import TPOTClassifier\n",
    "from sklearn.datasets import load_iris\n",
    "from sklearn.model_selection import train_test_split\n",
    "import numpy as np\n",
    "\n",
    "# iris = load_iris()\n",
    "# X_train, X_test, y_train, y_test = train_test_split(iris.data.astype(np.float64),iris.target.astype(np.float64), train_size=0.75, test_size=0.25)\n",
    "\n",
    "# tpot = TPOTClassifier(generations=5, population_size=20, verbosity=2)\n",
    "# tpot.fit(X_train, y_train)\n",
    "# print(tpot.score(X_test, y_test))\n",
    "# tpot.export('tpot_iris_pipeline.py')"
   ]
  },
  {
   "cell_type": "code",
   "execution_count": 35,
   "metadata": {},
   "outputs": [
    {
     "name": "stdout",
     "output_type": "stream",
     "text": [
      "Warning: xgboost.XGBClassifier is not available and will not be used by TPOT.\n"
     ]
    },
    {
     "data": {
      "application/vnd.jupyter.widget-view+json": {
       "model_id": "195b2f89a593441fbab7d35047108554",
       "version_major": 2,
       "version_minor": 0
      },
      "text/plain": [
       "HBox(children=(FloatProgress(value=0.0, description='Optimization Progress', max=120.0, style=ProgressStyle(de…"
      ]
     },
     "metadata": {},
     "output_type": "display_data"
    },
    {
     "name": "stdout",
     "output_type": "stream",
     "text": [
      "\n",
      "Generation 1 - Current best internal CV score: 0.826062394074446\n",
      "Generation 2 - Current best internal CV score: 0.826062394074446\n",
      "Generation 3 - Current best internal CV score: 0.8305693302366457\n",
      "Generation 4 - Current best internal CV score: 0.8305693302366457\n",
      "Generation 5 - Current best internal CV score: 0.8316740945326722\n",
      "Best pipeline: RandomForestClassifier(input_matrix, bootstrap=False, criterion=entropy, max_features=0.6500000000000001, min_samples_leaf=10, min_samples_split=12, n_estimators=100)\n",
      "0.8765432098765432\n"
     ]
    }
   ],
   "source": [
    "tpot = TPOTClassifier(generations=5, population_size=20, verbosity=2)\n",
    "tpot.fit(train_features, train_labels)\n",
    "print(tpot.score(train_features, train_labels))\n",
    "tpot.export('tpot_Titanic_pipeline.py')"
   ]
  },
  {
   "cell_type": "code",
   "execution_count": null,
   "metadata": {},
   "outputs": [],
   "source": []
  }
 ],
 "metadata": {
  "kernelspec": {
   "display_name": "Python 3",
   "language": "python",
   "name": "python3"
  },
  "language_info": {
   "codemirror_mode": {
    "name": "ipython",
    "version": 3
   },
   "file_extension": ".py",
   "mimetype": "text/x-python",
   "name": "python",
   "nbconvert_exporter": "python",
   "pygments_lexer": "ipython3",
   "version": "3.8.3"
  }
 },
 "nbformat": 4,
 "nbformat_minor": 4
}
