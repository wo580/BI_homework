{
 "cells": [
  {
   "cell_type": "markdown",
   "metadata": {},
   "source": [
    "Action3\t\"使用Gensim中的Word2Vec对三国演义进行Word Embedding，分析和曹操最相近的词有哪些，曹操+刘备-张飞=?\n",
    "数据集：three_kingdoms.txt\"\t\t\t\n",
    "1、完成代码，结果正确（20points）\t"
   ]
  },
  {
   "cell_type": "code",
   "execution_count": 4,
   "metadata": {},
   "outputs": [],
   "source": [
    "# -*-coding: utf-8 -*-\n",
    "# 对txt文件进行中文分词\n",
    "import jieba\n",
    "import os\n",
    "from utils import files_processing\n",
    "\n",
    "# 源文件所在目录\n",
    "source_folder = './three_kingdoms/source'\n",
    "segment_folder = './three_kingdoms/segment'\n",
    "\n",
    "# 字词分割，对整个文件内容进行字词分割\n",
    "def segment_lines(file_list,segment_out_dir,stopwords=[]):\n",
    "    for i,file in enumerate(file_list):\n",
    "        segment_out_name=os.path.join(segment_out_dir,'segment_{}.txt'.format(i))\n",
    "        with open(file, 'rb') as f:\n",
    "            document = f.read()\n",
    "            document_cut = jieba.cut(document)\n",
    "            sentence_segment=[]\n",
    "            for word in document_cut:\n",
    "                if word not in stopwords:\n",
    "                    sentence_segment.append(word)\n",
    "            result = ' '.join(sentence_segment)\n",
    "            result = result.encode('utf-8')\n",
    "            with open(segment_out_name, 'wb') as f2:\n",
    "                f2.write(result)\n",
    "\n",
    "# 对source中的txt文件进行分词，输出到segment目录中\n",
    "file_list=files_processing.get_files_list(source_folder, postfix='*.txt')\n",
    "segment_lines(file_list, segment_folder)"
   ]
  },
  {
   "cell_type": "code",
   "execution_count": 10,
   "metadata": {},
   "outputs": [
    {
     "name": "stdout",
     "output_type": "stream",
     "text": [
      "0.9791641\n",
      "0.93517995\n",
      "[('丞相', 0.9973059296607971), ('某', 0.9961576461791992), ('前者', 0.9956419467926025), ('蒙', 0.9945294857025146), ('奏', 0.9938101172447205), ('主公', 0.9937384724617004), ('瑾', 0.9935469031333923), ('此言', 0.9935237765312195), ('臣', 0.9933129549026489), ('问', 0.9931826591491699)]\n"
     ]
    }
   ],
   "source": [
    "# -*-coding: utf-8 -*-\n",
    "# 先运行 word_seg进行中文分词，然后再进行word_similarity计算\n",
    "# 将Word转换成Vec，然后计算相似度 \n",
    "from gensim.models import word2vec\n",
    "import multiprocessing\n",
    "\n",
    "# 如果目录中有多个文件，可以使用PathLineSentences\n",
    "segment_folder = './three_kingdoms/segment'\n",
    "sentences = word2vec.PathLineSentences(segment_folder)\n",
    "\n",
    "# 设置模型参数，进行训练\n",
    "model = word2vec.Word2Vec(sentences, size=100, window=3, min_count=1)\n",
    "print(model.wv.similarity('曹操', '刘备'))\n",
    "print(model.wv.similarity('曹操', '曹孟德'))\n",
    "print(model.wv.most_similar(positive=['曹操', '刘备'], negative=['张飞']))"
   ]
  },
  {
   "cell_type": "code",
   "execution_count": 11,
   "metadata": {},
   "outputs": [
    {
     "name": "stdout",
     "output_type": "stream",
     "text": [
      "0.9791641\n",
      "0.93517995\n",
      "[('丞相', 0.9973059296607971), ('某', 0.9961576461791992), ('前者', 0.9956419467926025), ('蒙', 0.9945294857025146), ('奏', 0.9938101172447205), ('主公', 0.9937384724617004), ('瑾', 0.9935469031333923), ('此言', 0.9935237765312195), ('臣', 0.9933129549026489), ('问', 0.9931826591491699)]\n"
     ]
    }
   ],
   "source": [
    "# 设置模型参数，进行训练\n",
    "model2 = word2vec.Word2Vec(sentences, size=128, window=5, min_count=5, workers=multiprocessing.cpu_count())\n",
    "# 保存模型\n",
    "model2.save('./models/word2Vec.model')\n",
    "print(model.wv.similarity('曹操', '刘备'))\n",
    "print(model.wv.similarity('曹操', '曹孟德'))\n",
    "print(model.wv.most_similar(positive=['曹操', '刘备'], negative=['张飞']))"
   ]
  },
  {
   "cell_type": "code",
   "execution_count": null,
   "metadata": {},
   "outputs": [],
   "source": []
  }
 ],
 "metadata": {
  "kernelspec": {
   "display_name": "Python 3",
   "language": "python",
   "name": "python3"
  },
  "language_info": {
   "codemirror_mode": {
    "name": "ipython",
    "version": 3
   },
   "file_extension": ".py",
   "mimetype": "text/x-python",
   "name": "python",
   "nbconvert_exporter": "python",
   "pygments_lexer": "ipython3",
   "version": "3.8.3"
  }
 },
 "nbformat": 4,
 "nbformat_minor": 4
}
