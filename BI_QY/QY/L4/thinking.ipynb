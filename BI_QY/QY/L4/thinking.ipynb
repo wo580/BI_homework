{
 "cells": [
  {
   "cell_type": "markdown",
   "metadata": {},
   "source": [
    "Thinking1\t奇异值分解SVD的原理是怎样的，都有哪些应用场景\t\t\n",
    "1、能简单说明奇异值分解的原理（5points）\n",
    "2、举例说明两个以上的使用场景（5points)\n",
    "\n",
    "原理：对于非对称的矩阵，可以将它与它的转置矩阵相乘得到对称方阵，进而可以求出特征值和特征向量，再可以求出奇异值；\n",
    "A*A的转置=P∧1P的转置\n",
    "A的转置*A=Q∧2Q的转置\n",
    "∧1、∧2为对角矩阵，具有相同的非零特征值。\n",
    "可以得到奇异值分解A=P∧Q的转置\n",
    "\n",
    "应用场景：推荐系统\\图像压缩\\噪声滤波\n",
    "降维\n"
   ]
  },
  {
   "cell_type": "markdown",
   "metadata": {},
   "source": [
    "Thinking2\tfunkSVD, BiasSVD，SVD++算法之间的区别是怎样的\t\t\n",
    "1、能简述3种算法之间的差异（10points)\n",
    "\n",
    "funkSVD:\n",
    "我们需要设置k，来对矩阵近似求解,矩阵补全以后，再预测，实际上噪音大。\n",
    "矩阵分解之后的还原，只需要关注与原来矩阵中有值的位置进行对比即可，不需要对所有元素进行对比.\n",
    "\n",
    "BiasSVD:\n",
    "在funkSVD的基础上,加入用户/商品偏好:\n",
    "用户有自己的偏好(Bias)，比如乐观的用户打分偏高;\n",
    "商品也有自己的偏好(Bias)，比如质量好的商品，打分偏高;\n",
    "将与个性化无关的部分，设置为偏好(Bias)部分;\n",
    "\n",
    "SVD++:\n",
    "在BiasSVD的基础上，考虑用户的隐式反馈:\n",
    "在BiasSVD算法基础上进行了改进，考虑用户的隐式反馈(隐式反馈：没有具体的评分，但可能有点击，浏览等行为),\n",
    "在考虑用户隐式反馈的情况下，最终得到P和Q!"
   ]
  },
  {
   "cell_type": "markdown",
   "metadata": {},
   "source": [
    "Thinking3\t矩阵分解算法在推荐系统中有哪些应用场景，存在哪些不足\t\t\n",
    "1、能说明推荐系统中的典型应用场景（5points）\n",
    "2、MF在推荐系统中的局限性（5points）\n",
    "\n",
    "在某个业务场景中，根据用户(User)在已有行为的商品(item)信息基础上，预测其在没有行为的item上的偏好概率，然后根据这个偏好概率的大小，由高到低的推荐给该用户.在推荐中的User-Item评分矩阵，通过矩阵分解获得两个低秩向量，分别表示用户向量与商品向量，该过程相当于进行了特征提取或者数据的降维.\n",
    "MF存在不足，只考虑user和item特征，解释性差,对于其他特征的利用我们需要使用新的工具.\n"
   ]
  },
  {
   "cell_type": "markdown",
   "metadata": {},
   "source": [
    "Thinking4\t假设一个小说网站，有N部小说，每部小说都有摘要描述。如何针对该网站制定基于内容的推荐系统，即用户看了某部小说后，推荐其他相关的小说。原理和步骤是怎样的\t\t\n",
    "能简要说明基于内容进行推荐的步骤及原理（10points)\t\n",
    "\n",
    "基于内容的推荐依赖性低，不需要动态的用户行为，只要有内容就可以推荐\n",
    "步骤：\n",
    "1.冷启动阶段，将各个领域的热门小说TOPN推荐给用户\n",
    "2.根据用户的观看历史，推荐相似小说\n",
    "\n",
    "\n",
    "\n"
   ]
  },
  {
   "cell_type": "markdown",
   "metadata": {},
   "source": [
    "Thinking5\tWord2Vec的应用场景有哪些\t\t\n",
    "能说明在NLP和推荐系统中的应用场景（10points）\t\n",
    "\n",
    "在NLP中将文本向量化，用来寻找相关词、发现新词、命名实体识别、信息索引、情感分析等，\n",
    "在推荐系统中\n",
    "推荐召回(sourcing):目标的向量表示可用于寻找相似的用户/内容，只需要通过简单的最近邻算法(knn)便可得到；\n",
    "精排序(ranking):目标的向量表示可以用来作为排序模型的特征\n",
    "\n"
   ]
  }
 ],
 "metadata": {
  "kernelspec": {
   "display_name": "Python 3",
   "language": "python",
   "name": "python3"
  },
  "language_info": {
   "codemirror_mode": {
    "name": "ipython",
    "version": 3
   },
   "file_extension": ".py",
   "mimetype": "text/x-python",
   "name": "python",
   "nbconvert_exporter": "python",
   "pygments_lexer": "ipython3",
   "version": "3.8.3"
  }
 },
 "nbformat": 4,
 "nbformat_minor": 4
}
