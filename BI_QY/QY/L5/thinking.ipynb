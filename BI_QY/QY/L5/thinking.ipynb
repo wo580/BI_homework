{
 "cells": [
  {
   "cell_type": "markdown",
   "metadata": {},
   "source": [
    "Thinking1\t在CTR点击率预估中，使用GBDT+LR的原理是什么？\t\t\n",
    "能简要说明GBDT和LR在CTR预估中的作用（10point）\n",
    "\n",
    "通过GBDT将特征进行组合，然后传入给线性分类器\n",
    "LR对GBDT产生的输入数据进行分类（使用L1正则化防止过拟合）\n",
    "使用GBDT+LR，相比单纯的LR和GBDT，在Loss上减少了3%，提升作用明显"
   ]
  },
  {
   "cell_type": "markdown",
   "metadata": {},
   "source": [
    "Thinking2\tWide & Deep的模型结构是怎样的，为什么能通过具备记忆和泛化能力（memorization and generalization）\t\n",
    "1、能简要说明Wide&Deep的模型（5point）\n",
    "2、如何具备记忆和泛化能力（5point）\n",
    "\n",
    "Wide推荐：\n",
    "系统通过获得用户的购物日志数据，包括用户点击哪些商品，购买过哪些商品，然后通过OneHot编码转换为离散特征；好处是可解释性强，不足在于特征组合需要人为操作；\n",
    "Deep推荐:\n",
    "通过深度学习出一些向量，这些向量是隐性特征，往往没有可解释性的；\n",
    "两个模型融合的方法：\n",
    "ensemble：两个模型分别对全量数据进行预测，然后根据权重组合最终的预测结果；\n",
    "joint training：wide和deep的特征合一，构成一个模型进行预测；\n",
    "\n",
    "Wide & Deep模型结合线性模型的记忆能力和DNN模型的泛化能力，在训练过程中同时优化两个模型的参数，并将两个模型的结果的加权作为最终的预测结果。"
   ]
  },
  {
   "cell_type": "markdown",
   "metadata": {},
   "source": [
    "Thinking3\t在CTR预估中，使用FM与DNN结合的方式，有哪些结合的方式，代表模型有哪些？\t\t\n",
    "1、能说出哪两种FM和DNN的组合方式（5points）\n",
    "2、能说出FM和DNN的组合出的算法（5points）\n",
    "\n",
    "DeepFM模型（并行结构，FM和DNN分开计算）、NFM模型（串行架构，将FM的结果作为DNN的输入）\n",
    "\n",
    "DeepFM是将Wide & Deep模型中的Wide替换成了FM模型；\n",
    "NFM算法是对embedding直接采用对位相乘（element-wise）后相加起来作为交叉特征，然后通过DNN直接将特征压缩，最后concatenate linear部分和deep部分的特征；"
   ]
  },
  {
   "cell_type": "markdown",
   "metadata": {},
   "source": [
    "Thinking4\tGBDT和随机森林都是基于树的算法，它们有什么区别？\t\t\n",
    "能简要说明这两种基于树的算法的不同（10points）\n",
    "\n",
    "随机森林采用的bagging思想，而GBDT采用的boosting思想；\n",
    "组成随机森林的树可以是分类树，也可以是回归树；而GBDT只能由回归树组成；\n",
    "组成随机森林的树可以并行生成；而GBDT只能是串行生成；\n",
    "对于最终的输出结果而言，随机森林采用多数投票等；而GBDT则是将所有结果累加起来，或者加权累加起来。"
   ]
  },
  {
   "cell_type": "markdown",
   "metadata": {},
   "source": [
    "Thinking5\titem流行度在推荐系统中有怎样的应用\t\t\n",
    "1、冷启动中的使用（10points)\n",
    "2、协同过滤中的TopN推荐（10points）\n",
    "3、其他使用（+5points)\n",
    "\n",
    "内容的流行程度，也称之为热度，最常见的是将榜单中热度的内容推荐给用户（微博热搜，TopN商品）；\n",
    "解决冷启动问题：当用户行为信息不足时，采用非个性化推荐，根据流行度来推荐商品的算法，也就是什么内容吸引用户，就给用户推荐什么内容，提供具有较高覆盖率的启动item集合（这些物品能覆盖主流的用户兴趣）匹配用户兴趣的多样性。\n",
    "\n",
    "协同过滤中的TopN推荐：\n",
    "=> 对于新用户，采用非个性化推荐（基于流行度的推荐）\n",
    "=> 对于老用户，可以考虑高流行度对商品推荐的降权影响，挖掘长尾"
   ]
  }
 ],
 "metadata": {
  "kernelspec": {
   "display_name": "Python 3",
   "language": "python",
   "name": "python3"
  },
  "language_info": {
   "codemirror_mode": {
    "name": "ipython",
    "version": 3
   },
   "file_extension": ".py",
   "mimetype": "text/x-python",
   "name": "python",
   "nbconvert_exporter": "python",
   "pygments_lexer": "ipython3",
   "version": "3.8.3"
  }
 },
 "nbformat": 4,
 "nbformat_minor": 4
}
