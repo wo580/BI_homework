{
 "cells": [
  {
   "cell_type": "markdown",
   "metadata": {},
   "source": [
    "Thinking1\t什么是近似最近邻查找，常用的方法有哪些\n",
    "能简要说明近似最近邻查找（5point）\n",
    "常用的方法(5point)\n",
    "\n",
    "近似最近邻查找(Approximate Nearest Neighbor，ANN),在牺牲可接受范围内的精度的情况下提高检索效率,最近邻检索是线性复杂度的，当处理大规模数据时可以采用ANN方法。\n"
   ]
  },
  {
   "cell_type": "markdown",
   "metadata": {},
   "source": [
    "Thinking2\t为什么两个集合的minhash值相同的概率等于这两个集合的Jaccard相似度\n",
    "能简要说明MinHash值相同的概率与Jaccard相似度相等的证明（10point）\n",
    "\n",
    "对于两个集合Ci与Cj，对应的行有三种可能：\n",
    "A类：两列的值都为1；\n",
    "B类：其中一列的值为0，另一列的值为1；\n",
    "C类：两列的值都为0。\n",
    "\n",
    "C类行对于结果计算没有影响，可以删除（值均为0的不需要）\n",
    "P(h(Ci)=h(Cj))=P(删掉C类后，第一行为A类)\n",
    "=A类行的个数/所有行的个数=a/(a+b)\n",
    "P(h(Ci)=h(Cj))= Jaccard(Ci,Cj)"
   ]
  },
  {
   "cell_type": "markdown",
   "metadata": {},
   "source": [
    "Thinking3\tSimHash在计算文档相似度的作用是怎样的？\n",
    "1、文档SimHash的计算过程（5points）\n",
    "2、如何通过文档的SimHash计算文档之间的相似度（5points）\n",
    "\n",
    "作用：通过SimHash算法得到每篇文档的指纹（fingerprint）\n",
    "\n",
    "通过SimHash算法得到每篇文档的指纹（fingerprint），计算两个文档指纹的海明距离，通常2篇文档的Hamming距离在3以内，就认为相似度比较高 => 两篇文档基本相同"
   ]
  },
  {
   "attachments": {},
   "cell_type": "markdown",
   "metadata": {},
   "source": [
    "Thinking4\t为什么YouTube采用期望观看时间作为评估指标\n",
    "能简要说明原因（10points）\n",
    "\n",
    "CTR(Click-Through-Rate,点击通过率)指标对于视频搜索具有一定的欺骗性所以采用期望观看时间作为评估指标，\n",
    "观看时长不是只有0，1两种标签，所以采用了Weighted Logistic Regression来模拟这个输出，\n",
    "具体来说，在划分样本空间时，正样本为有点击视频,输出值即观看时长值；负样本为无点击视频，权重统一采用1（即采用单位权值，不进行加权），\n",
    "在正常的逻辑回归中，几率odds计算，表示样本为正例概率与负例概率的比例，在serving阶段，YouTube采用e* *X 作为激励函数 => 近似的估计期望的观看时长。\n"
   ]
  }
 ],
 "metadata": {
  "kernelspec": {
   "display_name": "Python 3",
   "language": "python",
   "name": "python3"
  },
  "language_info": {
   "codemirror_mode": {
    "name": "ipython",
    "version": 3
   },
   "file_extension": ".py",
   "mimetype": "text/x-python",
   "name": "python",
   "nbconvert_exporter": "python",
   "pygments_lexer": "ipython3",
   "version": "3.7.6"
  }
 },
 "nbformat": 4,
 "nbformat_minor": 4
}
