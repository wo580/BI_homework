{
 "cells": [
  {
   "cell_type": "markdown",
   "metadata": {},
   "source": [
    "Thinking1\t为什么股票预测问题容易出现过拟合，也就是在训练时结果很好，在真实环境中结果没那么好\t\t\n",
    "能简要过拟合的原因（20points）"
   ]
  },
  {
   "cell_type": "markdown",
   "metadata": {},
   "source": [
    "训练环境中，我们是根据历史数据来进行预测，预测结果容易过拟合，\n",
    "而真实环境中，信息量中噪音非常多，虽然可以得出规律，但是预测的结果往往没有那么好。"
   ]
  },
  {
   "cell_type": "markdown",
   "metadata": {},
   "source": [
    "Thinking2\tProphet与ARMA/ARIMA相比，优势在哪些地方\t\t\n",
    "能简要说明Prophet与ARMA/ARIMA的优势（20points）"
   ]
  },
  {
   "cell_type": "markdown",
   "metadata": {},
   "source": [
    "ARMA，要求时序数据是稳定的，现实数据很难符合;\n",
    "ARIMA，模型为线性模型，无法处理非线性关系，同时要求数据点的间隔等长;如果数据缺失，则需要使用插值等方法来预估缺失值，然后再使用预估值来进行参数拟合，这样会引入噪音;\n",
    "\n",
    "prophet的优势：\n",
    "处理数据丢失问题：Prophet可以直接对缺失数据进行预测，不需要提前填充缺失值，可以避免引入噪音；\n",
    "趋势迁移问题（shifts in the trend）：Prophet是一个基于相加模型（additive model）的时间预测，可以精准的拟合非线性的周期趋势;\n",
    "异常的数据点（outliers）：对yearly、weekly和daily的周期性使用非线性拟合，添加了holidays（影响因子），可以很好的对节日（比如十一、春节等）带来的活跃数据的突变进行预测，预测会更加准确;"
   ]
  }
 ],
 "metadata": {
  "kernelspec": {
   "display_name": "Python 3",
   "language": "python",
   "name": "python3"
  },
  "language_info": {
   "codemirror_mode": {
    "name": "ipython",
    "version": 3
   },
   "file_extension": ".py",
   "mimetype": "text/x-python",
   "name": "python",
   "nbconvert_exporter": "python",
   "pygments_lexer": "ipython3",
   "version": "3.8.3"
  }
 },
 "nbformat": 4,
 "nbformat_minor": 4
}
