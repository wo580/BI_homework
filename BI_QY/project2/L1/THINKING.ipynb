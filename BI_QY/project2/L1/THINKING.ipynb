{
 "cells": [
  {
   "cell_type": "markdown",
   "metadata": {},
   "source": [
    "Thinking1\t\n",
    "今天讲解了时间序列预测的两种方式，实际上在数据库内建时间属性后，可以产生时序数据库，\n",
    "请思考什么是时序数据库？为什么时间序列数据成为增长最快的数据类型之一\t\t\t\n",
    "简要说明什么是时序数据库，为什么是时序数据是重要的数据，有自己的见解（20points）\t\n",
    "\n",
    "时序数据库建立了观察结果与时间变化的关系，能帮预测未来一段时间内的结果变化情况\n",
    "按照不同的时间尺度（天，月，季度，年）可以将数据压缩，得到不同尺度的数据，然后做可视化呈现。\n",
    "\n",
    "#为什么是时序数据是重要的数据:\n",
    "在选择模型前，我们需要确定结果与变量之间的关系,回归分析训练得到的是目标变量y与自变量x（一个或多个）的相关性，然后通过新的自变量x来预测目标变量y。\n",
    "而时间序列分析得到的是目标变量y与时间的相关性,\n",
    "回归分析擅长的是多变量与目标结果之间的分析，即便是单一变量，也往往与时间无关。\n",
    "而时间序列分析建立在时间变化的基础上，它会分析目标变量的趋势、周期、时期和不稳定因素等。这些趋势和周期都是在时间维度的基础上，是我们要观察的重要特征.\n",
    "\n",
    "#为什么时间序列数据成为增长最快的数据类型之一\t\t\t\n",
    "应用场景多"
   ]
  }
 ],
 "metadata": {
  "kernelspec": {
   "display_name": "Python 3",
   "language": "python",
   "name": "python3"
  },
  "language_info": {
   "codemirror_mode": {
    "name": "ipython",
    "version": 3
   },
   "file_extension": ".py",
   "mimetype": "text/x-python",
   "name": "python",
   "nbconvert_exporter": "python",
   "pygments_lexer": "ipython3",
   "version": "3.8.3"
  }
 },
 "nbformat": 4,
 "nbformat_minor": 4
}
