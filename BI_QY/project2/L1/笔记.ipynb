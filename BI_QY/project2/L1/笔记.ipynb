{
 "cells": [
  {
   "cell_type": "markdown",
   "metadata": {},
   "source": [
    "时间序列：\n",
    "建立了观察结果与时间变化的关系，能帮预测未来一段时间内的结果变化情况\n",
    "\n",
    "时间序列分析与回归分析的区别：\n",
    "在选择模型前，我们需要确定结果与变量之间的关系。回归分析训练得到的是目标变量y与自变量x（一个或多个）的相关性，然后通过新的自变量x来预测目标变量y。而时间序列分析得到的是目标变量y与时间的相关性\n",
    "回归分析擅长的是多变量与目标结果之间的分析，即便是单一变量，也往往与时间无关。而时间序列分析建立在时间变化的基础上，它会分析目标变量的趋势、周期、时期和不稳定因素等。这些趋势和周期都是在时间维度的基础上，是我们要观察的重要特征\n",
    "\n",
    "机器学习模型，包括AR、MA、ARMA、ARIMA\n",
    "\n",
    "时间序列statsmodels工具：\n",
    "statsmodels工具包提供统计计算，包括描述性统计以及统计模型的估计和推断\n",
    "statsmodels主要包括如下子模块：\n",
    "回归模型：线性回归，广义线性模型，线性混合效应模\n",
    "方差分析（ANOVA）\n",
    "时间序列分析：AR，ARMA，ARIMA等\n",
    "\n",
    "AR模型：Auto Regressive，自回归模型\n",
    "MA模型：Moving Average，滑动平均模型\n",
    "ARMA模型：Auto Regressive Moving Average，自回归滑动平均模型\n",
    "ARIMA模型：Auto Regressive Integrated Moving Average模型，差分自回归滑动平均模型，也叫求合自回归滑动平均模型\n",
    "\n",
    "时间序列是结构化数据，每个时间戳就有一个数值\n",
    "研究时间序列可以方便我们对未来进行预测，或者异常检测\n",
    "应用场景：\n",
    "金融股票价格预测，资金流入流出预测\n",
    "运维中的异常检测，日活月活时间序列异常检测\n"
   ]
  }
 ],
 "metadata": {
  "kernelspec": {
   "display_name": "Python 3",
   "language": "python",
   "name": "python3"
  },
  "language_info": {
   "codemirror_mode": {
    "name": "ipython",
    "version": 3
   },
   "file_extension": ".py",
   "mimetype": "text/x-python",
   "name": "python",
   "nbconvert_exporter": "python",
   "pygments_lexer": "ipython3",
   "version": "3.8.3"
  }
 },
 "nbformat": 4,
 "nbformat_minor": 4
}
