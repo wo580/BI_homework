{
 "cells": [
  {
   "cell_type": "markdown",
   "metadata": {},
   "source": [
    "https://3w.huanqiu.com/a/c36dc8/3xqGPRBcUE6?agt=8\n",
    "Action2\t\"新闻内容自动提取及呈现\n",
    "输入任意的新闻网址，对其进行：\n",
    "1）抓取正文内容，对非中文内容进行清洗\n",
    "2）文章关键词\n",
    "3）文章摘要，即关键句\n",
    "4）词云可视化\t\t\n",
    "1、完成代码\n",
    "2、结果正确"
   ]
  },
  {
   "cell_type": "markdown",
   "metadata": {},
   "source": [
    "#词云\n",
    "def create_word_cloud(f):\n",
    "\tf = remove_stop_words(f)\n",
    "\tcut_text = word_tokenize(f)\n",
    "\tcut_text = \" \".join(cut_text)\n",
    "\twc = WordCloud(\n",
    "\t\tmax_words=100,\n",
    "\t\twidth=2000,\n",
    "\t\theight=1200,\n",
    "    )\n",
    "\twordcloud = wc.generate(cut_text)\n",
    "\twordcloud.to_file(\"wordcloud.jpg\")"
   ]
  },
  {
   "cell_type": "code",
   "execution_count": 1,
   "metadata": {},
   "outputs": [],
   "source": [
    "import requests\n",
    "from bs4 import BeautifulSoup\n",
    "import jieba\n",
    "import jieba.analyse\n",
    "import jieba.posseg as pseg\n",
    "import re"
   ]
  },
  {
   "cell_type": "code",
   "execution_count": 2,
   "metadata": {},
   "outputs": [],
   "source": [
    "#Url\n",
    "url = 'https://3w.huanqiu.com/a/c36dc8/3xqGPRBcUE6?agt=8'\n",
    "#url = 'http://baijiahao.baidu.com/s?id=1690270892306455313'\n",
    "html = requests.get(url,timeout=10)\n",
    "content = html.content"
   ]
  },
  {
   "cell_type": "code",
   "execution_count": 3,
   "metadata": {},
   "outputs": [],
   "source": [
    "#通过content创建BeautifulSoup对象\n",
    "soup = BeautifulSoup(content,'html.parser', from_encoding='utf-8')\n",
    "text = soup.get_text()"
   ]
  },
  {
   "cell_type": "code",
   "execution_count": 4,
   "metadata": {},
   "outputs": [
    {
     "name": "stderr",
     "output_type": "stream",
     "text": [
      "Building prefix dict from the default dictionary ...\n",
      "Loading model from cache C:\\Users\\ADMINI~1\\AppData\\Local\\Temp\\jieba.cache\n",
      "Loading model cost 1.040 seconds.\n",
      "Prefix dict has been built successfully.\n"
     ]
    },
    {
     "name": "stdout",
     "output_type": "stream",
     "text": [
      "人物: {'薛艺磊', '特雷斯', '刘洋', '朱梦颖', '白宫', '特朗普'}\n",
      "地点: {'中国', '美国'}\n"
     ]
    }
   ],
   "source": [
    "#获取人物,地点\n",
    "words = pseg.lcut(text)\n",
    "#人物\n",
    "news_person = {word for word, flag in words\n",
    "              if flag=='nr'}\n",
    "news_place= {word for word, flag in words\n",
    "              if flag=='ns'}\n",
    "print('人物:',news_person)\n",
    "print('地点:',news_place)"
   ]
  },
  {
   "cell_type": "code",
   "execution_count": 5,
   "metadata": {},
   "outputs": [
    {
     "name": "stdout",
     "output_type": "stream",
     "text": [
      "\n",
      "\n",
      "\n",
      "\n",
      "特朗普宣布“断供”世卫，联合国秘书长：现在不是减少抗疫行动所需资源的时候\n",
      "\n",
      "\n",
      "\n",
      "\n",
      "\n",
      "\n",
      "\n",
      "\n",
      "\n",
      "\n",
      "\n",
      "\n",
      "\n",
      "\n",
      "\n",
      "\n",
      "\n",
      "\n",
      "\n",
      "\n",
      "\n",
      "\n",
      "\n",
      "\n",
      "\n",
      "\n",
      "\n",
      "\n",
      "特朗普宣布“断供”世卫，联合国秘书长：现在不是减少抗疫行动所需资源的时候\n",
      "\n",
      "2020-04-15 09:09\n",
      "\n",
      "朱梦颖\n",
      "\n",
      "环球网\n",
      "\n",
      "\n",
      "\n",
      "【环球网快讯】美国总统特朗普14日宣布暂停资助世卫组织。对此，据路透社最新消息，联合国秘书长古特雷斯在一份声明中回应表示，“现在不是减少世界卫生组织或任何其他人道主义组织用于抗击病毒行动所需资源的时候。”“现在是团结的时候，是国际社会齐心协力一起制止病毒（传播）及其破坏性后果的时候。”声明还写道。此前报道：特朗普宣布美国将暂停资助世卫组织，同日美国确诊病例超过60万【环球网报道 记者 刘洋】CNN消息，美国总统特朗普14日在白宫记者会上宣布，美国将暂停资助世界卫生组织，并对后者进行审查。特朗普称，审查范围将包括世卫组织“在处置失当和隐瞒病毒扩散真相”上的作用。他指责世卫组织在病毒暴发初期反对美国政府对中国实施旅行限制的决定，“其他国家听了世卫组织的话对中国敞开大门，结果加速了病毒的传播”。不仅如此，他还指责世界卫生组织没有及时分享疫情信息，没有及时提供防疫政策建议，没有及时宣布“全球大流行”等。特朗普称“在这么长时间后，是时候让他们为此负责了”。就在特朗普宣布将暂停资助世界卫生组织这天，据美国约翰斯·霍普金斯大学发布的全球新冠肺炎数据实时统计系统，截至美国东部时间4月14日晚6时，全美共报告新冠肺炎确诊602989例，死亡25575例，共检测3081620例。在过去24小时，全美新增确诊25682例，新增死亡2356例。面对疫情，特朗普甩锅世卫组织的态度早已十分明显，并曾接连将矛头对准世卫组织。当地时间4月7日，特朗普在白宫每日疫情简报会上宣称，将“强有力地阻止”美国向WHO提供资金，因为该组织持有“以中国为中心”的立场。之后，4月8日，特朗普则继续攻击世卫组织，并称会在会费问题上“下决心”。\n",
      "\n",
      "责编：薛艺磊\n",
      "版权作品，未经环球网 huanqiu.com 书面授权，严禁转载，违者将被追究法律责任。\n",
      "\n",
      "\n",
      "阅读数(49927）\n",
      "不感兴趣不感兴趣广告软文重复、旧闻文章质量差文字、图片、视频等展示问题标题夸张、文不对题与事实不符低俗色情欺诈或恶意营销疑似抄袭其他问题，我要吐槽确定*请填写原因感谢您的反馈，我们将会减少此类文章的推荐\n",
      "\n",
      "\n",
      "投诉\n",
      "\n",
      "\n",
      "\n",
      "\n",
      "\n",
      "\n",
      "\n",
      "\n",
      "\n",
      "\n",
      "\n",
      "\n",
      "\n",
      "\n",
      "\n",
      "\n",
      "\n",
      "\n"
     ]
    }
   ],
   "source": [
    "#提取中文以及标点符号\n",
    "text = re.sub('^[\\u4e00-\\u9fa5，。、！]{3,}','',text) #将非中文字符替换成空\n",
    "print(text)"
   ]
  },
  {
   "cell_type": "code",
   "execution_count": 6,
   "metadata": {},
   "outputs": [],
   "source": [
    "#去掉停用词\n",
    "def remove_stopwords(f):\n",
    "    stop_words = ['时候','没有']\n",
    "    for stop_words in stop_words:\n",
    "        f =f.replace(stop_words,'')\n",
    "    return f"
   ]
  },
  {
   "cell_type": "code",
   "execution_count": 7,
   "metadata": {},
   "outputs": [],
   "source": [
    "#生成词云\n",
    "from wordcloud import WordCloud\n",
    "def create_word_cloud(f):\n",
    "    f = remove_stopwords(f)\n",
    "    seg_list = jieba.lcut(f)\n",
    "    cut_text = \" \".join(seg_list)\n",
    "    wc = WordCloud(\n",
    "        max_words=100,\n",
    "        width=2000,\n",
    "        height=1200,\n",
    "        font_path = './msyh.ttf'\n",
    "    )\n",
    "    wordcloud = wc.generate(cut_text)\n",
    "    wordcloud.to_file(\"wordcloud.jpg\")\n",
    "\n",
    "create_word_cloud(text)"
   ]
  },
  {
   "cell_type": "code",
   "execution_count": 10,
   "metadata": {
    "scrolled": true
   },
   "outputs": [
    {
     "name": "stdout",
     "output_type": "stream",
     "text": [
      "关键词：\n",
      "组织 0.028046531859407576\n",
      "世卫 0.0254631331840568\n",
      "美国 0.024756675797885548\n",
      "病毒 0.0188690707947476\n",
      "特朗普 0.018438940780829072\n",
      "问题 0.014106618454916724\n",
      "确诊 0.012511450230337829\n",
      "中国 0.012048983139129192\n",
      "疫情 0.011031469273206794\n",
      "没有 0.010617779522072518\n",
      "宣布 0.010459303890547418\n",
      "减少 0.010292811648871011\n",
      "世界卫生组织 0.010161031563986853\n",
      "现在 0.009153313775357974\n",
      "环球网 0.008889870347676038\n",
      "全球 0.008665392847715975\n",
      "全美 0.008648506318631524\n",
      "新冠 0.00850959986774303\n",
      "新增 0.00842270362611322\n",
      "提供 0.008281608662083925\n",
      "摘要：\n",
      "9 0.07658082515605456 此前报道：特朗普宣布美国将暂停资助世卫组织，同日美国确诊病例超过60万【环球网报道 记者 刘洋】CNN消息，美国总统特朗普14日在白宫记者会上宣布，美国将暂停资助世界卫生组织，并对后者进行审查\n",
      "5 0.06992346632713363 【环球网快讯】美国总统特朗普14日宣布暂停资助世卫组织\n",
      "0 0.06731528412782758 特朗普宣布“断供”世卫，联合国秘书长：现在不是减少抗疫行动所需资源的时候\n"
     ]
    }
   ],
   "source": [
    "#pip install -i https://pypi.tuna.tsinghua.edu.cn/simple textrank4zh\n",
    "from textrank4zh import TextRank4Keyword, TextRank4Sentence\n",
    "# 输出关键词，设置文本小写，窗口为2\n",
    "tr4w = TextRank4Keyword()\n",
    "tr4w.analyze(text=text, lower=True, window=3)\n",
    "print('关键词：')\n",
    "for item in tr4w.get_keywords(20, word_min_len=2):\n",
    "    print(item.word, item.weight)\n",
    "    \n",
    "# 输出重要的句子\n",
    "tr4s = TextRank4Sentence()\n",
    "tr4s.analyze(text=text, lower=True, source = 'all_filters')\n",
    "print('摘要：')\n",
    "# 重要性较高的三个句子\n",
    "for item in tr4s.get_key_sentences(num=3):\n",
    "    # index是语句在文本中位置，weight表示权重\n",
    "    print(item.index, item.weight, item.sentence)\n"
   ]
  },
  {
   "cell_type": "code",
   "execution_count": 11,
   "metadata": {},
   "outputs": [
    {
     "name": "stdout",
     "output_type": "stream",
     "text": [
      "关键词: ['组织', '美国', '世卫', '普', '病毒', '特朗', '不', '新', '例', '日', '上', '14', '网', '确诊', '中国', '冠', '环球', '卫生', '肺炎', '文']\n",
      "关键句: ['【环球网快讯】美国总统特朗普14日宣布暂停资助世卫组织', '此前报道：特朗普宣布美国将暂停资助世卫组织', '“现在不是减少世界卫生组织或任何其他人道主义组织用于抗击病毒行动所需资源的时候']\n",
      "1.0\n"
     ]
    }
   ],
   "source": [
    "#pip install -i https://pypi.tuna.tsinghua.edu.cn/simple snownlp\n",
    "from snownlp import SnowNLP\n",
    "snow = SnowNLP(text)\n",
    "# 打印关键词\n",
    "print('关键词:',snow.keywords(20))\n",
    "\n",
    "# TextRank算法\n",
    "print('关键句:',snow.summary(3))\n",
    "print(snow.sentiments)"
   ]
  },
  {
   "cell_type": "code",
   "execution_count": null,
   "metadata": {},
   "outputs": [],
   "source": []
  }
 ],
 "metadata": {
  "kernelspec": {
   "display_name": "Python 3",
   "language": "python",
   "name": "python3"
  },
  "language_info": {
   "codemirror_mode": {
    "name": "ipython",
    "version": 3
   },
   "file_extension": ".py",
   "mimetype": "text/x-python",
   "name": "python",
   "nbconvert_exporter": "python",
   "pygments_lexer": "ipython3",
   "version": "3.8.3"
  }
 },
 "nbformat": 4,
 "nbformat_minor": 4
}
