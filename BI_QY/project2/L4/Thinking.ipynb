{
 "cells": [
  {
   "cell_type": "markdown",
   "metadata": {},
   "source": [
    "Thinking1\t\n",
    "如果你是某P2P租车的技术负责人，你会如何设计个性化推荐和搜索排序\n",
    "阐述相似车型，搜索排序的设计方法\n",
    "可能的embedding策\n",
    "\"能简要阐述相似车型，搜索排序的方法（10points）\n",
    "能简要阐述可能的embedding策略（10points）"
   ]
  },
  {
   "cell_type": "markdown",
   "metadata": {},
   "source": [
    "租车是一个低频行为，很大一部分用户一年可能只有一两次行为，这部分数据怎么处理？如何捕捉用户的实时兴趣和长期兴趣？\n",
    "针对问题，设计两种 Embedding 方式:\n",
    "一种是用来反应短期实时兴趣 ,通过 click session 数据生成Listing Embedding；\n",
    "另一种反应长期兴趣的, 通过booking session 生成 User-type & Listing-type Embedding。\n",
    "\n",
    "基于Embedding的实时个性化搜索:\n",
    "1.计算用户的user type embedding与候选listing的listing type embedding之间的余弦相似度\n",
    "2.推荐给用户相似度高的listing\n",
    "\n",
    "基于Embedding的搜索排序:\n",
    "Step1，准备3种embedding值，Listing Embedding，User Type Embedding和Listing Type Embedding\n",
    "Step2，获取基础指标H∗\n",
    "Step3，提取地区embedding\n",
    "用户在进行Query的时候，地区是重要的特征，先通过H*获取用户的近期行为，因为listing embedding里面包含了地区之间的差异信息，计算每个地区所有listing embedding的均值作为这个地区的embedding，代表用户对该地区的偏好。\n",
    "Step4，计算Embedding Features\n",
    "比如EmbClickSim，针对每一个候选的listing，计算候选listing的listing embedding与地区embedding之间的余弦相似度相似度，取最高值作为该listing的EmbClickSim取值\n",
    "UserTypeListingTypeSim，计算每一个候选listing所在的listing type embedding和用户的user type embedding之间的相似度\n",
    "Step5，在原有的Ranking Model中加入embedding features进行计算"
   ]
  },
  {
   "cell_type": "markdown",
   "metadata": {},
   "source": [
    "参考引用:\n",
    "P2P租车推荐系统架构试谈: https://blog.csdn.net/suspend2014/article/details/104277272\n",
    "学习工业论文《Real-time Personalization using Embeddings for Search Ranking at Airbnb》思考P2P租车实现架构: https://blog.csdn.net/taffices/article/details/113808714"
   ]
  }
 ],
 "metadata": {
  "kernelspec": {
   "display_name": "Python 3",
   "language": "python",
   "name": "python3"
  },
  "language_info": {
   "codemirror_mode": {
    "name": "ipython",
    "version": 3
   },
   "file_extension": ".py",
   "mimetype": "text/x-python",
   "name": "python",
   "nbconvert_exporter": "python",
   "pygments_lexer": "ipython3",
   "version": "3.8.3"
  }
 },
 "nbformat": 4,
 "nbformat_minor": 4
}
