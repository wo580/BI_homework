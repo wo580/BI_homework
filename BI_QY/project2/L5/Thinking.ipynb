{
 "cells": [
  {
   "cell_type": "markdown",
   "metadata": {},
   "source": [
    "*Thinking1\t电商定向广告和搜索广告有怎样的区别，算法模型是否有差别\t\t\t\n",
    "能简要说明两者的区别（5points）\n",
    "能说明算法模型有哪些差别或不同的算法模型（5points）\n",
    "\n",
    "定向广告:给不同的人群呈现不同的页面,有2种版本：千人千面(纯ID层面)和千人十面(用户画像层面)；\n",
    "电商定向广告和搜索广告二者的区别：\n",
    "1.用户没有明显的意图（不主动Query查询）;\n",
    "2.用户来淘宝之前，自己没有特别明确的目标，需要利用以往的历史行为进行item推荐；\n",
    "\n",
    "算法模型它们本质上都属于CTR模型，根据给定广告、用户和上下文情况等信息，对每次广告的点击情况做出预测,深度学习模型都用到了Embedding(降维,可计算)；\n",
    "最大的区别在于，定向广告推荐应用的典型模型是带Attention机制的\n",
    "DIN模型（Deep Interest Network，深度兴趣网络）、\n",
    "DIEN模型（Deep Interest Evolution Network）和\n",
    "DSIN模型（Deep Session Interest Network）；"
   ]
  },
  {
   "cell_type": "markdown",
   "metadata": {},
   "source": [
    "*Thinking2\t定向广告都有哪些常见的使用模型，包括Attention机制模型\t\t\n",
    "能简要说明常用的模型（10pionts）\n",
    "\n",
    "常见使用模型:LR, MLR, DNN, DIEN, DSIN\n",
    "LR模型（线性模型）:LR模型 + 人工特征，LR模型不能处理非线性特征，所以需要特征工程去加入非线性特征\n",
    "\n",
    "MLR模型（非线性模型）:Mixed Logistic Regression，混合逻辑回归，\n",
    "采用分而治之的策略，用分段线性+级联，拟合高维空间的非线性分类面，相比于人工来说提升了效率和精度\n",
    "\n",
    "DNN模型（深度学习）:能使用GPU，处理复杂模型和大数据量\n",
    "优势：处理复杂模型和大数据量\n",
    "不足：试图用定长embedding表达用户多种多样的兴趣\n",
    "\n",
    "包括Attention机制的模型：\n",
    "DIN模型（Deep Interest Network 深度兴趣网络）：\n",
    "在对用户兴趣的表示上引入了attention机制，对用户历史行为的洞察：\n",
    "Diversity，多样性，一个用户可以对多种品类的东西感兴趣\n",
    "Local Activation，局部激活，只有部分历史行为对目前的点击预测有帮助\n",
    "\n",
    "DIEN模型（Deep Interest Evolution Network 深度兴趣进化网络）：\n",
    "Motivation：\n",
    "综合序列随机跳转多，没有规律，噪音大\n",
    "具体到某个兴趣，存在随时间逐渐演化的趋势\n",
    "\n",
    "DSIN模型（Deep Session Interest Network 深度会话兴趣网络）：\n",
    "Motivation：\n",
    "将用户行为序列看成多个会话\n",
    "会话内相近，会话与会话之间差别大"
   ]
  },
  {
   "cell_type": "markdown",
   "metadata": {},
   "source": [
    "*Thinking3\tDIN中的Attention机制思想和原理是怎样的\t\t\n",
    "能简要说明Attention思想和原理（10points）\n",
    "\n",
    "Attention机制思想：在pooling的时候，与 candidate Ad 相关的商品权重大一些，与candidate Ad 不相关的商品权重小一些;\n",
    "\n",
    "原理是在对用户行为的embedding计算上引入了attention network(也称为Activation Unit),把用户历史行为特征进行embedding操作，视为对用户兴趣的表示，之后通过Attention Unit，对每个兴趣表示赋予不同的权值,Attention Weight是由用户历史行为和候选广告进行匹配计算得到的，对应着洞察(用户兴趣的Diversity，以及Local Activation);\n",
    "DIN模型在工程上进行了改进，Dice激活函数，自适应正则，以及改进的AUC评价指标，为模型效果和评估带来了提升."
   ]
  },
  {
   "cell_type": "markdown",
   "metadata": {},
   "source": [
    "*Thinking4\tDIEN相比于DIN有哪些创新\t\t\n",
    "能简要说明DIEN的创新之处（10points）\n",
    "\n",
    "DIEN和DIN最底层都有Embedding Layer，User profile， target AD和context feature，处理方式一样,DIEN 模型弥补了DIN 模型没有对行为序列进行建模的缺陷，它围绕兴趣进化这个点进一步对DIN 模型做了改进。主要以下创新：\n",
    "1.通过引入序列模型 AUGRU 模拟了用户兴趣进化的过程；\n",
    "2.在Embedding layer 和 Concatenate layer 之间加入了生成兴趣的Interest Extractor Layer 和模拟兴趣演化的 Interest Evolving layer Interest Extractor Layer ；\n",
    "3.Interest Extractor Layer 兴趣抽取层使用了GRU的结构抽取了每一个时间片内用户的兴趣,通过辅助loss，提升兴趣表达的准确性；\n",
    "4.Interest Evolution Layer 兴趣演化层，利用序列模型AUGRU 的结构将不同时间的用户兴趣串联起来，形成兴趣进化的链条,更准确的表达用户兴趣的动态变化性，在GRU基础上增加Attention机制，找到与target AD相关的interest;\n",
    "5.最终把当前时刻的“兴趣向量”输入上层的多层全连接网络，与其他特征一起进行最终的 CTR 预估\n",
    "\n",
    "DIN中简单的使用外积完成的activation unit => DIEN使用attention-based GRU网络，更好的挖掘序列数据中的兴趣及演化"
   ]
  },
  {
   "cell_type": "markdown",
   "metadata": {},
   "source": [
    "*Thinking5\tDSIN关于Session的洞察是怎样的，如何对Session兴趣进行表达\t\t\t\n",
    "能简要说明DSIN关于Session兴趣的表达方式（10points）\n",
    "\n",
    "DSIN利用用户行为序列中的多个历史会话，一个session是在给定的时间范围内发生的交互列表(用户行为列表)；\n",
    "表达方法：\n",
    "Sequence视角，同样可以看到user interest的变化;\n",
    "Session视角,每个session中的行为是相近的，而在不同会话之间差别是很大的（类似于聚类），即：用户的行为序列可以用一个个session序列表示，session内的用户兴趣变化不大；\n",
    "Session的划分和airbnb一样，即将用户的点击行为按照时间排序，前后的时间间隔大于30分钟，算成另外一个session。\n",
    "self-attention用于提取一个session内的用户兴趣"
   ]
  },
  {
   "cell_type": "markdown",
   "metadata": {},
   "source": [
    "*Thinking6\t如果你来设计淘宝定向广告，会有哪些future work（即下一个阶段的idea）\t\t\n",
    "给出你的想法（5points）\n",
    "想法具有创新性（5points）\n",
    "\n",
    "加入商家热推产品：\n",
    "除了从购买者角度,还可以加入商家主推商品推荐, 该商品可以结合用户的购买率, 购买周期, 评价星级, 再进行广告;\n"
   ]
  }
 ],
 "metadata": {
  "kernelspec": {
   "display_name": "Python 3",
   "language": "python",
   "name": "python3"
  },
  "language_info": {
   "codemirror_mode": {
    "name": "ipython",
    "version": 3
   },
   "file_extension": ".py",
   "mimetype": "text/x-python",
   "name": "python",
   "nbconvert_exporter": "python",
   "pygments_lexer": "ipython3",
   "version": "3.8.3"
  }
 },
 "nbformat": 4,
 "nbformat_minor": 4
}
