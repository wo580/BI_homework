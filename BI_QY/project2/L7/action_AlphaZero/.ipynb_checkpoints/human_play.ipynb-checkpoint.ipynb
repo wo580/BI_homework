{
 "cells": [
  {
   "cell_type": "code",
   "execution_count": null,
   "metadata": {},
   "outputs": [],
   "source": [
    "# 调用AI与人下五子棋\n",
    "from __future__ import print_function\n",
    "import pickle\n",
    "from game import Board, Game #定义了棋盘Board\n",
    "from mcts_pure import MCTSPlayer as MCTS_Pure\n",
    "from mcts_alphaZero import MCTSPlayer\n",
    "from policy_value_net_pytorch import PolicyValueNet  # Pytorch\n",
    "\n",
    "\n",
    "# 由人来输入下棋的位置\n",
    "class Human(object):\n",
    "    def __init__(self):\n",
    "        self.player = None\n",
    "\n",
    "    def set_player_ind(self, p):\n",
    "        self.player = p\n",
    "\n",
    "    # 通过input交互，得到用户的下棋位置 move\n",
    "    def get_action(self, board):\n",
    "        try:\n",
    "            location = input(\"输入你下棋的位置 x,y: \")\n",
    "            print(location)\n",
    "            if isinstance(location, str):  # for python3\n",
    "                location = [int(n, 10) for n in location.split(\",\")]\n",
    "            move = board.location_to_move(location)\n",
    "        except Exception as e:\n",
    "            move = -1\n",
    "        if move == -1 or move not in board.availables:\n",
    "            print(\"输入位置非法\")\n",
    "            move = self.get_action(board)\n",
    "        return move\n",
    "\n",
    "    def __str__(self):\n",
    "        return \"Human {}\".format(self.player)\n",
    "\n",
    "\n",
    "# GoBang主程序\n",
    "def run():\n",
    "    n = 5\n",
    "    # 这里可以修改棋盘的大小，需要和AI Model的棋盘大小相等\n",
    "    width, height = 6, 6\n",
    "    # 调用AI模型\n",
    "    model_file = 'best_policy.model'\n",
    "    try:\n",
    "        # 初始化棋盘\n",
    "        board = Board(width=width, height=height, n_in_row=n)\n",
    "        game = Game(board)\n",
    "\n",
    "        # ############### human VS AI ###################\n",
    "        # 加载AI Model\n",
    "        best_policy = PolicyValueNet(width, height, model_file = model_file, use_gpu=True)\n",
    "        # 设置n_playout越大，效果越好，不需要设置is_selfplay，因为不需要进行AI训练\n",
    "        mcts_player = MCTSPlayer(best_policy.policy_value_fn, c_puct=5, n_playout=400)  \n",
    "\n",
    "        # 也可以使用MCTS_Pure进行对弈，但是它太弱了\n",
    "        # mcts_player = MCTS_Pure(c_puct=5, n_playout=1000)\n",
    "\n",
    "        # 创建人类player, 输入下棋位置比如 3,3\n",
    "        human = Human()\n",
    "\n",
    "        # start_player=1表示电脑先手，0表示人先手\n",
    "        game.start_play(human, mcts_player, start_player=1, is_shown=1)\n",
    "    except KeyboardInterrupt:\n",
    "        print('\\n\\rquit')\n",
    "\n",
    "\n",
    "if __name__ == '__main__':\n",
    "    run()\n"
   ]
  },
  {
   "cell_type": "code",
   "execution_count": null,
   "metadata": {},
   "outputs": [],
   "source": []
  },
  {
   "cell_type": "code",
   "execution_count": null,
   "metadata": {},
   "outputs": [],
   "source": []
  },
  {
   "cell_type": "code",
   "execution_count": null,
   "metadata": {},
   "outputs": [],
   "source": []
  },
  {
   "cell_type": "code",
   "execution_count": null,
   "metadata": {},
   "outputs": [],
   "source": []
  }
 ],
 "metadata": {
  "kernelspec": {
   "display_name": "Python 3",
   "language": "python",
   "name": "python3"
  },
  "language_info": {
   "codemirror_mode": {
    "name": "ipython",
    "version": 3
   },
   "file_extension": ".py",
   "mimetype": "text/x-python",
   "name": "python",
   "nbconvert_exporter": "python",
   "pygments_lexer": "ipython3",
   "version": "3.8.3"
  }
 },
 "nbformat": 4,
 "nbformat_minor": 4
}
