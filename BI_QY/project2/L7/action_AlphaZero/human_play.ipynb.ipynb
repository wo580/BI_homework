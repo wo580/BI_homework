{
 "cells": [
  {
   "cell_type": "code",
   "execution_count": 4,
   "metadata": {},
   "outputs": [
    {
     "ename": "RuntimeError",
     "evalue": "Error(s) in loading state_dict for Net:\n\tsize mismatch for act_fc1.weight: copying a param with shape torch.Size([36, 144]) from checkpoint, the shape in current model is torch.Size([100, 400]).\n\tsize mismatch for act_fc1.bias: copying a param with shape torch.Size([36]) from checkpoint, the shape in current model is torch.Size([100]).\n\tsize mismatch for val_fc1.weight: copying a param with shape torch.Size([64, 72]) from checkpoint, the shape in current model is torch.Size([64, 200]).",
     "output_type": "error",
     "traceback": [
      "\u001b[1;31m---------------------------------------------------------------------------\u001b[0m",
      "\u001b[1;31mRuntimeError\u001b[0m                              Traceback (most recent call last)",
      "\u001b[1;32m<ipython-input-4-516912689aaf>\u001b[0m in \u001b[0;36m<module>\u001b[1;34m\u001b[0m\n\u001b[0;32m     66\u001b[0m \u001b[1;33m\u001b[0m\u001b[0m\n\u001b[0;32m     67\u001b[0m \u001b[1;32mif\u001b[0m \u001b[0m__name__\u001b[0m \u001b[1;33m==\u001b[0m \u001b[1;34m'__main__'\u001b[0m\u001b[1;33m:\u001b[0m\u001b[1;33m\u001b[0m\u001b[1;33m\u001b[0m\u001b[0m\n\u001b[1;32m---> 68\u001b[1;33m     \u001b[0mrun\u001b[0m\u001b[1;33m(\u001b[0m\u001b[1;33m)\u001b[0m\u001b[1;33m\u001b[0m\u001b[1;33m\u001b[0m\u001b[0m\n\u001b[0m",
      "\u001b[1;32m<ipython-input-4-516912689aaf>\u001b[0m in \u001b[0;36mrun\u001b[1;34m()\u001b[0m\n\u001b[0;32m     49\u001b[0m         \u001b[1;31m# ############### human VS AI ###################\u001b[0m\u001b[1;33m\u001b[0m\u001b[1;33m\u001b[0m\u001b[1;33m\u001b[0m\u001b[0m\n\u001b[0;32m     50\u001b[0m         \u001b[1;31m# 加载AI Model\u001b[0m\u001b[1;33m\u001b[0m\u001b[1;33m\u001b[0m\u001b[1;33m\u001b[0m\u001b[0m\n\u001b[1;32m---> 51\u001b[1;33m         \u001b[0mbest_policy\u001b[0m \u001b[1;33m=\u001b[0m \u001b[0mPolicyValueNet\u001b[0m\u001b[1;33m(\u001b[0m\u001b[0mwidth\u001b[0m\u001b[1;33m,\u001b[0m \u001b[0mheight\u001b[0m\u001b[1;33m,\u001b[0m \u001b[0mmodel_file\u001b[0m \u001b[1;33m=\u001b[0m \u001b[0mmodel_file\u001b[0m\u001b[1;33m,\u001b[0m \u001b[0muse_gpu\u001b[0m\u001b[1;33m=\u001b[0m\u001b[1;32mFalse\u001b[0m\u001b[1;33m)\u001b[0m\u001b[1;33m\u001b[0m\u001b[1;33m\u001b[0m\u001b[0m\n\u001b[0m\u001b[0;32m     52\u001b[0m         \u001b[1;31m# 设置n_playout越大，效果越好，不需要设置is_selfplay，因为不需要进行AI训练\u001b[0m\u001b[1;33m\u001b[0m\u001b[1;33m\u001b[0m\u001b[1;33m\u001b[0m\u001b[0m\n\u001b[0;32m     53\u001b[0m         \u001b[0mmcts_player\u001b[0m \u001b[1;33m=\u001b[0m \u001b[0mMCTSPlayer\u001b[0m\u001b[1;33m(\u001b[0m\u001b[0mbest_policy\u001b[0m\u001b[1;33m.\u001b[0m\u001b[0mpolicy_value_fn\u001b[0m\u001b[1;33m,\u001b[0m \u001b[0mc_puct\u001b[0m\u001b[1;33m=\u001b[0m\u001b[1;36m5\u001b[0m\u001b[1;33m,\u001b[0m \u001b[0mn_playout\u001b[0m\u001b[1;33m=\u001b[0m\u001b[1;36m400\u001b[0m\u001b[1;33m)\u001b[0m\u001b[1;33m\u001b[0m\u001b[1;33m\u001b[0m\u001b[0m\n",
      "\u001b[1;32m~\\BI\\BIhk\\BI_QY\\project2\\L7\\action_AlphaZero\\policy_value_net_pytorch.py\u001b[0m in \u001b[0;36m__init__\u001b[1;34m(self, board_width, board_height, model_file, use_gpu)\u001b[0m\n\u001b[0;32m     69\u001b[0m         \u001b[1;32mif\u001b[0m \u001b[0mmodel_file\u001b[0m\u001b[1;33m:\u001b[0m\u001b[1;33m\u001b[0m\u001b[1;33m\u001b[0m\u001b[0m\n\u001b[0;32m     70\u001b[0m             \u001b[0mnet_params\u001b[0m \u001b[1;33m=\u001b[0m \u001b[0mtorch\u001b[0m\u001b[1;33m.\u001b[0m\u001b[0mload\u001b[0m\u001b[1;33m(\u001b[0m\u001b[0mmodel_file\u001b[0m\u001b[1;33m)\u001b[0m\u001b[1;33m\u001b[0m\u001b[1;33m\u001b[0m\u001b[0m\n\u001b[1;32m---> 71\u001b[1;33m             \u001b[0mself\u001b[0m\u001b[1;33m.\u001b[0m\u001b[0mpolicy_value_net\u001b[0m\u001b[1;33m.\u001b[0m\u001b[0mload_state_dict\u001b[0m\u001b[1;33m(\u001b[0m\u001b[0mnet_params\u001b[0m\u001b[1;33m)\u001b[0m\u001b[1;33m\u001b[0m\u001b[1;33m\u001b[0m\u001b[0m\n\u001b[0m\u001b[0;32m     72\u001b[0m \u001b[1;33m\u001b[0m\u001b[0m\n\u001b[0;32m     73\u001b[0m     \u001b[1;31m# 输入状态，得到行动的可能性和状态值，按照batch进行输入\u001b[0m\u001b[1;33m\u001b[0m\u001b[1;33m\u001b[0m\u001b[1;33m\u001b[0m\u001b[0m\n",
      "\u001b[1;32mC:\\ProgramData\\Anaconda3\\lib\\site-packages\\torch\\nn\\modules\\module.py\u001b[0m in \u001b[0;36mload_state_dict\u001b[1;34m(self, state_dict, strict)\u001b[0m\n\u001b[0;32m   1221\u001b[0m \u001b[1;33m\u001b[0m\u001b[0m\n\u001b[0;32m   1222\u001b[0m         \u001b[1;32mif\u001b[0m \u001b[0mlen\u001b[0m\u001b[1;33m(\u001b[0m\u001b[0merror_msgs\u001b[0m\u001b[1;33m)\u001b[0m \u001b[1;33m>\u001b[0m \u001b[1;36m0\u001b[0m\u001b[1;33m:\u001b[0m\u001b[1;33m\u001b[0m\u001b[1;33m\u001b[0m\u001b[0m\n\u001b[1;32m-> 1223\u001b[1;33m             raise RuntimeError('Error(s) in loading state_dict for {}:\\n\\t{}'.format(\n\u001b[0m\u001b[0;32m   1224\u001b[0m                                self.__class__.__name__, \"\\n\\t\".join(error_msgs)))\n\u001b[0;32m   1225\u001b[0m         \u001b[1;32mreturn\u001b[0m \u001b[0m_IncompatibleKeys\u001b[0m\u001b[1;33m(\u001b[0m\u001b[0mmissing_keys\u001b[0m\u001b[1;33m,\u001b[0m \u001b[0munexpected_keys\u001b[0m\u001b[1;33m)\u001b[0m\u001b[1;33m\u001b[0m\u001b[1;33m\u001b[0m\u001b[0m\n",
      "\u001b[1;31mRuntimeError\u001b[0m: Error(s) in loading state_dict for Net:\n\tsize mismatch for act_fc1.weight: copying a param with shape torch.Size([36, 144]) from checkpoint, the shape in current model is torch.Size([100, 400]).\n\tsize mismatch for act_fc1.bias: copying a param with shape torch.Size([36]) from checkpoint, the shape in current model is torch.Size([100]).\n\tsize mismatch for val_fc1.weight: copying a param with shape torch.Size([64, 72]) from checkpoint, the shape in current model is torch.Size([64, 200])."
     ]
    }
   ],
   "source": [
    "# 调用AI与人下五子棋\n",
    "from __future__ import print_function\n",
    "import pickle\n",
    "from game import Board, Game #定义了棋盘Board\n",
    "from mcts_pure import MCTSPlayer as MCTS_Pure\n",
    "from mcts_alphaZero import MCTSPlayer\n",
    "from policy_value_net_pytorch import PolicyValueNet  # Pytorch\n",
    "\n",
    "\n",
    "# 由人来输入下棋的位置\n",
    "class Human(object):\n",
    "    def __init__(self):\n",
    "        self.player = None\n",
    "\n",
    "    def set_player_ind(self, p):\n",
    "        self.player = p\n",
    "\n",
    "    # 通过input交互，得到用户的下棋位置 move\n",
    "    def get_action(self, board):\n",
    "        try:\n",
    "            location = input(\"输入你下棋的位置 x,y: \")\n",
    "            print(location)\n",
    "            if isinstance(location, str):  # for python3\n",
    "                location = [int(n, 10) for n in location.split(\",\")]\n",
    "            move = board.location_to_move(location)\n",
    "        except Exception as e:\n",
    "            move = -1\n",
    "        if move == -1 or move not in board.availables:\n",
    "            print(\"输入位置非法\")\n",
    "            move = self.get_action(board)\n",
    "        return move\n",
    "\n",
    "    def __str__(self):\n",
    "        return \"Human {}\".format(self.player)\n",
    "\n",
    "\n",
    "# GoBang主程序\n",
    "def run():\n",
    "    n = 5\n",
    "    # 这里可以修改棋盘的大小，需要和AI Model的棋盘大小相等\n",
    "    width, height = 10, 10\n",
    "    # 调用AI模型\n",
    "    model_file = 'best_policy.model'\n",
    "    try:\n",
    "        # 初始化棋盘\n",
    "        board = Board(width=width, height=height, n_in_row=n)\n",
    "        game = Game(board)\n",
    "\n",
    "        # ############### human VS AI ###################\n",
    "        # 加载AI Model\n",
    "        best_policy = PolicyValueNet(width, height, model_file = model_file, use_gpu=False)\n",
    "        # 设置n_playout越大，效果越好，不需要设置is_selfplay，因为不需要进行AI训练\n",
    "        mcts_player = MCTSPlayer(best_policy.policy_value_fn, c_puct=5, n_playout=400)  \n",
    "\n",
    "        # 也可以使用MCTS_Pure进行对弈，但是它太弱了\n",
    "        # mcts_player = MCTS_Pure(c_puct=5, n_playout=1000)\n",
    "\n",
    "        # 创建人类player, 输入下棋位置比如 3,3\n",
    "        human = Human()\n",
    "\n",
    "        # start_player=1表示电脑先手，0表示人先手\n",
    "        game.start_play(human, mcts_player, start_player=1, is_shown=1)\n",
    "    except KeyboardInterrupt:\n",
    "        print('\\n\\rquit')\n",
    "\n",
    "\n",
    "if __name__ == '__main__':\n",
    "    run()\n"
   ]
  },
  {
   "cell_type": "code",
   "execution_count": null,
   "metadata": {},
   "outputs": [],
   "source": []
  },
  {
   "cell_type": "code",
   "execution_count": null,
   "metadata": {},
   "outputs": [],
   "source": []
  },
  {
   "cell_type": "code",
   "execution_count": null,
   "metadata": {},
   "outputs": [],
   "source": []
  },
  {
   "cell_type": "code",
   "execution_count": null,
   "metadata": {},
   "outputs": [],
   "source": []
  }
 ],
 "metadata": {
  "kernelspec": {
   "display_name": "Python 3",
   "language": "python",
   "name": "python3"
  },
  "language_info": {
   "codemirror_mode": {
    "name": "ipython",
    "version": 3
   },
   "file_extension": ".py",
   "mimetype": "text/x-python",
   "name": "python",
   "nbconvert_exporter": "python",
   "pygments_lexer": "ipython3",
   "version": "3.8.3"
  }
 },
 "nbformat": 4,
 "nbformat_minor": 4
}
