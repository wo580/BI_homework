{
 "cells": [
  {
   "cell_type": "markdown",
   "metadata": {},
   "source": [
    "#Thinking1\t新零售中的“人、货、场”分别指的是什么？\t\t\n",
    "能简要说明人货场的概念（10points）\n",
    "\n",
    "对的人：用户的画像（性别、年龄、人生阶段，兴趣爱好）\n",
    "\n",
    "对的货：产品的定价、产品搭配（爆款产品、形象产品、搭配产品），仓储配送、供应链管理，分析产品数据（流量、点击、订单、入篮量）\n",
    "\n",
    "对的场：渠道来源，页面分析，不同店面销售额，城市，商圈，地址\n"
   ]
  },
  {
   "cell_type": "markdown",
   "metadata": {},
   "source": [
    "#Thinking2\tAIPL与传统的品牌资产评估有何区别？\t\t\t\n",
    "能简要说明AIPL区别传统的品牌资产评估方法的区别（10points）\n",
    "\n",
    "AIPL模型：首次实现品牌人群资产定量化、链路化运营。\n",
    "在AIPL模型之前，“人群资产”是很难量化。AIPL模型，把品牌在电商中的人群资产定量化的运营模型。AIPL可根据UserId做全链路的采集和分析。"
   ]
  },
  {
   "cell_type": "markdown",
   "metadata": {},
   "source": [
    "#Thinking3\t请列举一例生活工作中存在的帕累托法则\t\t\t\n",
    "能简要说明帕累托法则的例子（10points）\n",
    "\n",
    "二八定律： \\\n",
    "世界上最富有的20%的人掌握着80%的财富。 \\\n",
    "20%的患者占据了总医疗支出的80%。 \\\n",
    "20%的流行病感染者要对80%的传播负责。 \\\n",
    "20%的罪犯犯了80%的罪。 \\\n",
    "一家公司80%的销售额来自20%的客户 "
   ]
  },
  {
   "cell_type": "markdown",
   "metadata": {},
   "source": [
    "#Thinking4\t请简述GBDT与XGBoost的区别？\t\t\t\n",
    "简要说出GBDT与XGBoost的区别（20points）\n",
    "\n",
    "GBDT 是机器学习算法，XGBoost 是算法的工程实现； \\\n",
    "XGBoost加入了正则项来控制模型的复杂度，有利于防止过拟合，从而提高模型的泛化能力； \\\n",
    "GBDT 在模型训练时只使用了代价函数的一阶导数信息，XGBoost 对代价函数进行二阶泰勒展开，可以同时使用一阶和二阶导数；\\\n",
    "传统 GBDT 在每轮迭代时使用全部的数据，XGBoost 则采用了与随机森林相似的策略，支持对数据进行采样； \\\n",
    "传统的 GBDT 没有设计对缺失值进行处理，XGBoost 能够自动学习出缺失值的处理策略。"
   ]
  },
  {
   "cell_type": "markdown",
   "metadata": {},
   "source": [
    "#Thinking5\t如何处理神经网络中的过拟合问题？\t\t\t\n",
    "简要说明处理神经网络过拟合问题的方法（20points）\n",
    "\n",
    "过拟合的表现：模型在训练集上误差很小，在测试集上误差很大 \\\n",
    "处理神经网络过拟合问题的方法: \\\n",
    "L1/L2正则化: \\\n",
    "L1正则，权值向量w中各个元素的绝对值之和 \\\n",
    "L2正则，权值向量w中各个元素的平方和然后再求平方根 \\\n",
    "神经网络中损失函数，可以增加一个额外的正则项（L1或L2）正则项看做是损失函数的惩罚项 \\\n",
    "\n",
    "Dropout； \\\n",
    "Data Argumentation； \\\n",
    "Early Stop； \n",
    "\n",
    "网络结构: \n",
    "Inception结构，加上1x1的卷积核，降低特征图厚度； \\\n",
    "ResBlock结构"
   ]
  },
  {
   "cell_type": "code",
   "execution_count": null,
   "metadata": {},
   "outputs": [],
   "source": []
  }
 ],
 "metadata": {
  "kernelspec": {
   "display_name": "Python 3",
   "language": "python",
   "name": "python3"
  },
  "language_info": {
   "codemirror_mode": {
    "name": "ipython",
    "version": 3
   },
   "file_extension": ".py",
   "mimetype": "text/x-python",
   "name": "python",
   "nbconvert_exporter": "python",
   "pygments_lexer": "ipython3",
   "version": "3.8.3"
  }
 },
 "nbformat": 4,
 "nbformat_minor": 4
}
