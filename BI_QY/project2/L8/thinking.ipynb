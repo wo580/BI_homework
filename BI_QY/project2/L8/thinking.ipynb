{
 "cells": [
  {
   "cell_type": "markdown",
   "metadata": {},
   "source": [
    "Thinking1\t新零售中的“人、货、场”分别指的是什么？\t\t\n",
    "能简要说明人货场的概念（10points）\n",
    "\n",
    "人：利用人群分析，对比大促前后增长情况，重点关注增长明星的群体。\n",
    "\n",
    "货：通过产品分析了解产品的浏览量、点击量、订单、入篮量、购买用户数等信息，从而帮助企业了解不同商品的用户关注度、购买力等，为产品生命周期分析、产品推广策略提供数据支持。\n",
    "\n",
    "场：指的是消费的场所/场景。"
   ]
  },
  {
   "cell_type": "markdown",
   "metadata": {},
   "source": [
    "Thinking2\tAIPL与传统的品牌资产评估有何区别？\t\t\t\n",
    "能简要说明AIPL区别传统的品牌资产评估方法的区别（10points）\n",
    "在AIPL模型之前，“人群资产”是很难量化。AIPL模型，把品牌在电商中的人群资产定量化的运营模型。AIPL可根据UserId做全链路的采集和分析。"
   ]
  },
  {
   "cell_type": "markdown",
   "metadata": {},
   "source": [
    "Thinking3\t请列举一例生活工作中存在的帕累托法则\t\t\t\n",
    "能简要说明帕累托法则的例子（10points）\n",
    "20%的人拥有全社会80%的财富。"
   ]
  },
  {
   "cell_type": "markdown",
   "metadata": {},
   "source": [
    "Thinking4\t请简述GBDT与XGBoost的区别？\t\t\t\n",
    "简要说出GBDT与XGBoost的区别（20points）\n",
    "GBDT 是机器学习算法，XGBoost 是算法的工程实现；XGBoost加入了正则项来控制模型的复杂度，有利于防止过拟合，从而提高模型的泛化能力；GBDT 在模型训练时只使用了代价函数的一阶导数信息，XGBoost 对代价函数进行二阶泰勒展开，可以同时使用一阶和二阶导数；传统 GBDT 在每轮迭代时使用全部的数据，XGBoost 则采用了与随机森林相似的策略，支持对数据进行采样；传统的 GBDT 没有设计对缺失值进行处理，XGBoost 能够自动学习出缺失值的处理策略。"
   ]
  },
  {
   "cell_type": "markdown",
   "metadata": {},
   "source": [
    "Thinking5\t如何处理神经网络中的过拟合问题？\t\t\t\n",
    "简要说明处理神经网络过拟合问题的方法（20points）\n",
    "L1/L2正则化；Dropout；Data Argumentation；Early Stop；Inception结构，加上1x1的卷积核，降低特征图厚度；ResBlock结构"
   ]
  }
 ],
 "metadata": {
  "kernelspec": {
   "display_name": "Python 3",
   "language": "python",
   "name": "python3"
  },
  "language_info": {
   "codemirror_mode": {
    "name": "ipython",
    "version": 3
   },
   "file_extension": ".py",
   "mimetype": "text/x-python",
   "name": "python",
   "nbconvert_exporter": "python",
   "pygments_lexer": "ipython3",
   "version": "3.8.3"
  }
 },
 "nbformat": 4,
 "nbformat_minor": 4
}
