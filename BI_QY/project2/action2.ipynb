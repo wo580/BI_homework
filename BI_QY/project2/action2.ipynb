{
 "cells": [
  {
   "cell_type": "markdown",
   "metadata": {},
   "source": [
    "https://3w.huanqiu.com/a/c36dc8/3xqGPRBcUE6?agt=8\n",
    "Action2\t\"新闻内容自动提取及呈现\n",
    "输入任意的新闻网址，对其进行：\n",
    "1）抓取正文内容，对非中文内容进行清洗\n",
    "2）文章关键词\n",
    "3）文章摘要，即关键句\n",
    "4）词云可视化\t\t\n",
    "1、完成代码\n",
    "2、结果正确"
   ]
  },
  {
   "cell_type": "markdown",
   "metadata": {},
   "source": [
    "#词云\n",
    "def create_word_cloud(f):\n",
    "\tf = remove_stop_words(f)\n",
    "\tcut_text = word_tokenize(f)\n",
    "\tcut_text = \" \".join(cut_text)\n",
    "\twc = WordCloud(\n",
    "\t\tmax_words=100,\n",
    "\t\twidth=2000,\n",
    "\t\theight=1200,\n",
    "    )\n",
    "\twordcloud = wc.generate(cut_text)\n",
    "\twordcloud.to_file(\"wordcloud.jpg\")"
   ]
  },
  {
   "cell_type": "code",
   "execution_count": 1,
   "metadata": {},
   "outputs": [],
   "source": [
    "import requests\n",
    "from bs4 import BeautifulSoup\n",
    "import jieba\n",
    "import jieba.analyse\n",
    "import jieba.posseg as pseg\n",
    "import re"
   ]
  },
  {
   "cell_type": "code",
   "execution_count": 11,
   "metadata": {
    "scrolled": false
   },
   "outputs": [],
   "source": [
    "#Url\n",
    "url = 'https://3w.huanqiu.com/a/c36dc8/3xqGPRBcUE6?agt=8'\n",
    "#url = 'http://baijiahao.baidu.com/s?id=1690270892306455313'\n",
    "html = requests.get(url,timeout=10)\n",
    "content = html.content"
   ]
  },
  {
   "cell_type": "code",
   "execution_count": 22,
   "metadata": {},
   "outputs": [],
   "source": [
    "#通过content创建BeautifulSoup对象\n",
    "soup = BeautifulSoup(content,'html.parser', from_encoding='utf-8')\n",
    "#soup = BeautifulSoup(content,'html5lib', from_encoding='utf-8')\n",
    "text = soup.get_text()"
   ]
  },
  {
   "cell_type": "code",
   "execution_count": 23,
   "metadata": {},
   "outputs": [
    {
     "name": "stdout",
     "output_type": "stream",
     "text": [
      "人物: {'薛艺磊', '白宫', '刘洋', '朱梦颖', '特朗普', '特雷斯', '安倍'}\n",
      "地点: {'美国', '中国'}\n"
     ]
    }
   ],
   "source": [
    "#获取人物,地点\n",
    "words = pseg.lcut(text)\n",
    "#人物\n",
    "news_person = {word for word, flag in words\n",
    "              if flag=='nr'}\n",
    "news_place= {word for word, flag in words\n",
    "              if flag=='ns'}\n",
    "print('人物:',news_person)\n",
    "print('地点:',news_place)"
   ]
  },
  {
   "cell_type": "code",
   "execution_count": 24,
   "metadata": {},
   "outputs": [
    {
     "name": "stdout",
     "output_type": "stream",
     "text": [
      "\n",
      "\n",
      "\n",
      "\n",
      "特朗普宣布“断供”世卫，联合国秘书长：现在不是减少抗疫行动所需资源的时候\n",
      "\n",
      "\n",
      "\n",
      "\n",
      "\n",
      "\n",
      "\n",
      "\n",
      "\n",
      " \n",
      "        // 全局变量配置\n",
      "        window.global = {\n",
      "            id: '3xqGPRBcUE6',\n",
      "            type: 1,  // 文章类型\n",
      "            category: '国际新闻', // 频道\n",
      "            searchKey: ' 安倍辞职',// 搜索关键字\n",
      "            keywords: '特朗普,特雷斯,环球网,14,世卫,最新消息,快讯,组织',\n",
      "            isPure: 1, // 领导人模板; 0否 1是\n",
      "            source: '环球网', // 来源\n",
      "            mpStatus : 0,// mp文章标识; 0否 1是\n",
      "            aPage: true // aPage(article)详情页, mediaPage(ta)媒体页, tagPage(tag)标签页\n",
      "        }\n",
      "    \n",
      "\n",
      "        .content-ad{\n",
      "            margin: 7px 20px 0 0;\n",
      "            padding: 20px 18px;\n",
      "            border: 1px solid #ebebeb;\n",
      "            float: left;\n",
      "        }\n",
      "        .content-ad iframe {\n",
      "                margin: 0!important;\n",
      "                padding: 0!important;\n",
      "                min-height: 250px!important;\n",
      "            }\n",
      "        .hdTop {background: #90080E!important;}\n",
      "        .hdTop .hdtLogin .hdtLogBoxWrap a { color:#fff!important;}\n",
      "        .hdTop .hdtName { background: #90080E!important; }\n",
      "        .navTopSec .leftNavSec a:hover { background: #90080E!important; }\n",
      "        .navTopSec .linkHome:after { border-right: 1px solid #fff!important;}\n",
      "        .navTopSec .arrPad em, .navTopSec .leftNavSec a {\n",
      "            color: #fff!important;\n",
      "        }\n",
      "    \n",
      "\n",
      "\n",
      "\n",
      "\n",
      "        var _hmt = _hmt || [];\n",
      "        _hmt.push(['_setAccount', 'dc3f241db204d00b0a8b7103895312c4']);\n",
      "\n",
      "                _hmt.push(['_setCustomVar', 3, '自定义变量3', '国际新闻', 3]);\n",
      "        \n",
      "                _hmt.push(['_setCustomVar', 4, '自定义变量4', '薛艺磊', 3]);\n",
      "        \n",
      "        (function() {\n",
      "            var hm = document.createElement(\"script\");\n",
      "            hm.src = \"https://hm.baidu.com/hm.js?dc3f241db204d00b0a8b7103895312c4\";\n",
      "            var s = document.getElementsByTagName(\"script\")[0];\n",
      "            s.parentNode.insertBefore(hm, s);\n",
      "        })();\n",
      "    \n",
      "\n",
      "    var _report = _report || [];\n",
      "    _report.push(['_setAccount', 'dc3f241db204d00b0a8b7103895312c4']);\n",
      "\n",
      "        _report.push(['_setCustomVar', 1, 'custom1', '3xqGPRBcUE6']);\n",
      "    _report.push(['_setCustomVar', 2, 'custom2', '特朗普宣布“断供”世卫，联合国秘书长：现在不是减少抗疫行动所需资源的时候']);\n",
      "    _report.push(['_setCustomVar', 3, 'custom3', '特朗普,特雷斯,环球网,14,世卫,最新消息,快讯,组织']);\n",
      "    _report.push(['_setCustomVar', 4, 'custom4', '环球网']);\n",
      "    _report.push(['_setCustomVar', 5, 'custom5', '国际新闻']);\n",
      "    _report.push(['_setCustomVar', 6, 'custom6', '国际新闻:独家']);\n",
      "    _report.push(['_setCustomVar', 7, 'custom7', '薛艺磊']);\n",
      "    _report.push(['_setCustomVar', 8, 'custom8', '1']);\n",
      "    \n",
      "    (function() {\n",
      "        var report = document.createElement(\"script\");\n",
      "        report.src = \"https://analysis.huanqiu.com/better-report.js?id=e547964db520191b45ed\";\n",
      "        var s = document.getElementsByTagName(\"script\")[0];\n",
      "        s.parentNode.insertBefore(report, s);\n",
      "    })();\n",
      "\n",
      "\n",
      "\n",
      "\n",
      "  window.dataLayer = window.dataLayer || [];\n",
      "  function gtag(){dataLayer.push(arguments);}\n",
      "  gtag('js', new Date());\n",
      "\n",
      "  gtag('config', 'UA-124922893-1');\n",
      "\n",
      "\n",
      "\n",
      "\n",
      "\n",
      "\n",
      "\n",
      "\n",
      "\n",
      "\n",
      "特朗普宣布“断供”世卫，联合国秘书长：现在不是减少抗疫行动所需资源的时候\n",
      "\n",
      "2020-04-15 09:09\n",
      "\n",
      "朱梦颖\n",
      "\n",
      "环球网\n",
      "\n",
      "\n",
      "\n",
      "【环球网快讯】美国总统特朗普14日宣布暂停资助世卫组织。对此，据路透社最新消息，联合国秘书长古特雷斯在一份声明中回应表示，“现在不是减少世界卫生组织或任何其他人道主义组织用于抗击病毒行动所需资源的时候。”“现在是团结的时候，是国际社会齐心协力一起制止病毒（传播）及其破坏性后果的时候。”声明还写道。此前报道：特朗普宣布美国将暂停资助世卫组织，同日美国确诊病例超过60万【环球网报道 记者 刘洋】CNN消息，美国总统特朗普14日在白宫记者会上宣布，美国将暂停资助世界卫生组织，并对后者进行审查。特朗普称，审查范围将包括世卫组织“在处置失当和隐瞒病毒扩散真相”上的作用。他指责世卫组织在病毒暴发初期反对美国政府对中国实施旅行限制的决定，“其他国家听了世卫组织的话对中国敞开大门，结果加速了病毒的传播”。不仅如此，他还指责世界卫生组织没有及时分享疫情信息，没有及时提供防疫政策建议，没有及时宣布“全球大流行”等。特朗普称“在这么长时间后，是时候让他们为此负责了”。就在特朗普宣布将暂停资助世界卫生组织这天，据美国约翰斯·霍普金斯大学发布的全球新冠肺炎数据实时统计系统，截至美国东部时间4月14日晚6时，全美共报告新冠肺炎确诊602989例，死亡25575例，共检测3081620例。在过去24小时，全美新增确诊25682例，新增死亡2356例。面对疫情，特朗普甩锅世卫组织的态度早已十分明显，并曾接连将矛头对准世卫组织。当地时间4月7日，特朗普在白宫每日疫情简报会上宣称，将“强有力地阻止”美国向WHO提供资金，因为该组织持有“以中国为中心”的立场。之后，4月8日，特朗普则继续攻击世卫组织，并称会在会费问题上“下决心”。\n",
      "\n",
      "责编：薛艺磊\n",
      "版权作品，未经环球网 huanqiu.com 书面授权，严禁转载，违者将被追究法律责任。\n",
      "\n",
      "\n",
      "阅读数(49917）\n",
      "不感兴趣不感兴趣广告软文重复、旧闻文章质量差文字、图片、视频等展示问题标题夸张、文不对题与事实不符低俗色情欺诈或恶意营销疑似抄袭其他问题，我要吐槽确定*请填写原因感谢您的反馈，我们将会减少此类文章的推荐\n",
      "\n",
      "\n",
      "投诉\n",
      "\n",
      "\n",
      "\n",
      "\n",
      "\n",
      "\n",
      "\n",
      "\n",
      "\n",
      "\n",
      "\n",
      "\n",
      "\n",
      "\n",
      "\n",
      "\n",
      "    $(function(){\n",
      "        $(\".a-con img\").each(function(){\n",
      "            if($(this).attr(\"alt\")!='' && $(this).attr(\"alt\")!=undefined)\n",
      "            {\n",
      "                $(this).after('<p style=\"text-align:center;\">'+ $(this).attr(\"alt\") +'</p>');\n",
      "            }\n",
      "        });\n",
      "    });\n",
      "    \n",
      "\n",
      "\n"
     ]
    }
   ],
   "source": [
    "#提取中文以及标点符号\n",
    "text = re.sub('^[\\u4e00-\\u9fa5，。、！]{3,}','',text) #将非中文字符替换成空\n",
    "#text = re.sub('^[\\u4e00-\\u9fa5，。、！]','',text,flags=re.S)#結果一樣\n",
    "print(text)"
   ]
  },
  {
   "cell_type": "code",
   "execution_count": 25,
   "metadata": {},
   "outputs": [],
   "source": [
    "#去掉停用词\n",
    "def remove_stopwords(f):\n",
    "    stop_words = ['时候','没有']\n",
    "    for stop_words in stop_words:\n",
    "        f =f.replace(stop_words,'')\n",
    "    return f"
   ]
  },
  {
   "cell_type": "code",
   "execution_count": 26,
   "metadata": {},
   "outputs": [],
   "source": [
    "#生成词云\n",
    "from wordcloud import WordCloud\n",
    "def create_word_cloud(f):\n",
    "    f = remove_stopwords(f)\n",
    "    seg_list = jieba.lcut(f)\n",
    "    cut_text = \" \".join(seg_list)\n",
    "    wc = WordCloud(\n",
    "        max_words=100,\n",
    "        width=2000,\n",
    "        height=1200,\n",
    "        font_path = './msyh.ttf'\n",
    "    )\n",
    "    wordcloud = wc.generate(cut_text)\n",
    "    wordcloud.to_file(\"wordcloud.jpg\")\n",
    "\n",
    "create_word_cloud(text)"
   ]
  },
  {
   "cell_type": "code",
   "execution_count": 27,
   "metadata": {
    "scrolled": true
   },
   "outputs": [
    {
     "name": "stdout",
     "output_type": "stream",
     "text": [
      "关键词：\n",
      "组织 0.017926136650222455\n",
      "世卫 0.01677815536123217\n",
      "特朗普 0.014894342505586853\n",
      "美国 0.01447094690512462\n",
      "push 0.013038049650346117\n",
      "病毒 0.01128366064539596\n",
      "setcustomvar 0.010937925392588761\n",
      "px 0.01050173752635588\n",
      "环球网 0.009754711514000324\n",
      "文章 0.009585479795486209\n",
      "国际 0.009267772767765813\n",
      "问题 0.008574827955191662\n",
      "确诊 0.0075523853822791545\n",
      "中国 0.0072467187914845195\n",
      "report 0.0071545270307425985\n",
      "hm 0.006973134722026621\n",
      "宣布 0.006821955147679609\n",
      "gtag 0.006735600475337127\n",
      "疫情 0.006622657730361527\n",
      "没有 0.0063771560832823\n",
      "摘要：\n",
      "62 0.024875313918362594 _report.push(['_setCustomVar', 2, 'custom2', '特朗普宣布“断供”世卫，联合国秘书长：现在不是减少抗疫行动所需资源的时候'])\n",
      "63 0.024387885404429144 _report.push(['_setCustomVar', 3, 'custom3', '特朗普,特雷斯,环球网,14,世卫,最新消息,快讯,组织'])\n",
      "77 0.018724766635733525 function gtag(){dataLayer.push(arguments)\n"
     ]
    }
   ],
   "source": [
    "#pip install -i https://pypi.tuna.tsinghua.edu.cn/simple textrank4zh\n",
    "from textrank4zh import TextRank4Keyword, TextRank4Sentence\n",
    "# 输出关键词，设置文本小写，窗口为2\n",
    "tr4w = TextRank4Keyword()\n",
    "tr4w.analyze(text=text, lower=True, window=3)\n",
    "print('关键词：')\n",
    "for item in tr4w.get_keywords(20, word_min_len=2):\n",
    "    print(item.word, item.weight)\n",
    "    \n",
    "# 输出重要的句子\n",
    "tr4s = TextRank4Sentence()\n",
    "tr4s.analyze(text=text, lower=True, source = 'all_filters')\n",
    "print('摘要：')\n",
    "# 重要性较高的三个句子\n",
    "for item in tr4s.get_key_sentences(num=3):\n",
    "    # index是语句在文本中位置，weight表示权重\n",
    "    print(item.index, item.weight, item.sentence)\n"
   ]
  },
  {
   "cell_type": "code",
   "execution_count": 10,
   "metadata": {},
   "outputs": [
    {
     "name": "stdout",
     "output_type": "stream",
     "text": [
      "['组织', '美国', \"'\", '普', '{', '特朗', '世卫', '//', '环球', '网', '病毒', '文章', \"_report.push(['_setCustomVar',\", '不', 'var', '新', '国际', '例', '日', '0']\n",
      "['【环球网快讯】美国总统特朗普14日宣布暂停资助世卫组织', \"_report.push(['_setCustomVar', 3, 'custom3', '特朗普,特雷斯,环球网,14,世卫,最新消息,快讯,组织']);\", \"keywords: '特朗普,特雷斯,环球网,14,世卫,最新消息,快讯,组织',\"]\n",
      "6.580735956163153e-12\n"
     ]
    }
   ],
   "source": [
    "#pip install -i https://pypi.tuna.tsinghua.edu.cn/simple snownlp\n",
    "from snownlp import SnowNLP\n",
    "snow = SnowNLP(text)\n",
    "# 打印关键词\n",
    "print(snow.keywords(20))\n",
    "\n",
    "# TextRank算法\n",
    "print(snow.summary(3))\n",
    "print(snow.sentiments)"
   ]
  }
 ],
 "metadata": {
  "kernelspec": {
   "display_name": "Python 3",
   "language": "python",
   "name": "python3"
  },
  "language_info": {
   "codemirror_mode": {
    "name": "ipython",
    "version": 3
   },
   "file_extension": ".py",
   "mimetype": "text/x-python",
   "name": "python",
   "nbconvert_exporter": "python",
   "pygments_lexer": "ipython3",
   "version": "3.7.6"
  }
 },
 "nbformat": 4,
 "nbformat_minor": 4
}
